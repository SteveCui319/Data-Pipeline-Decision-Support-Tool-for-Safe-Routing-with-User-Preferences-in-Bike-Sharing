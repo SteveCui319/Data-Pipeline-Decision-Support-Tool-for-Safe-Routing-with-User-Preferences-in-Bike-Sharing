{
 "cells": [
  {
   "cell_type": "code",
   "execution_count": 2,
   "id": "b4d5a683-dce4-4204-b427-fd3b297bc43c",
   "metadata": {},
   "outputs": [],
   "source": [
    "import os\n",
    "import pandas as pd\n",
    "import osmnx as ox\n",
    "import networkx as nx\n",
    "from tqdm import tqdm"
   ]
  },
  {
   "cell_type": "code",
   "execution_count": 11,
   "id": "489fc5c2-a053-4f64-85d2-5b8cb9da6cac",
   "metadata": {},
   "outputs": [],
   "source": [
    "def process_and_save_network():\n",
    "    # loading original road network\n",
    "    input_path = '../data/london_bike_network.graphml'\n",
    "    output_path = '../data/london_bike_network_accident_score.graphml'\n",
    "    \n",
    "    # If the processed file already exists, load it directly\n",
    "    if os.path.exists(output_path):\n",
    "        print(\"load the processed network...\")\n",
    "        return ox.load_graphml(output_path)\n",
    "    \n",
    "    print(\"Process and save the network...\")\n",
    "    G = ox.load_graphml(input_path)\n",
    "    \n",
    "    \n",
    "    # Node and edge attribute convertion\n",
    "    node_types = {\n",
    "        \"street_count\": int,\n",
    "        \"x\": float,\n",
    "        \"y\": float\n",
    "    }\n",
    "    \n",
    "    edge_types = {\n",
    "        'osmid': str,\n",
    "        'access': str,\n",
    "        'highway': str,\n",
    "        'maxspeed': str,\n",
    "        'name': str,\n",
    "        'oneway': bool,\n",
    "        'reversed': bool,\n",
    "        'length': float\n",
    "    }\n",
    "    \n",
    "    for attr_name, dtype in tqdm(node_types.items(), desc=\"convert node attributes\"):\n",
    "        attrs = nx.get_node_attributes(G, attr_name) \n",
    "        attrs_converted = {node: dtype(value) for node, value in attrs.items()}\n",
    "        nx.set_node_attributes(G, attrs_converted, name=attr_name)\n",
    "    \n",
    "    for attr_name, dtype in tqdm(edge_types.items(), desc=\"convert edge attrbiutes\"):\n",
    "        attrs = nx.get_edge_attributes(G, attr_name)\n",
    "        attrs_converted = {edge: dtype(value) for edge, value in attrs.items()}\n",
    "        nx.set_edge_attributes(G, attrs_converted, name=attr_name)\n",
    "    \n",
    "    G = nx.relabel_nodes(G, {node: int(node) for node in G.nodes}) # relabel the node to an integer\n",
    "    \n",
    "    \n",
    "    # Handle missing values and fill in default values\n",
    "    default_node_attr = {\n",
    "        'highway': '',\n",
    "        'junction': '',\n",
    "        'railway': ''\n",
    "    }\n",
    "    \n",
    "    default_edge_attr = {\n",
    "        'access': 'unknown',\n",
    "        'maxspeed': '20 mph',\n",
    "        'lanes': '1.5',\n",
    "        'bridge': 'yes',\n",
    "        'service': 'unknown',\n",
    "        'junction': 'approach',\n",
    "        'tunnel': 'yes',\n",
    "    }\n",
    "\n",
    "    for node, data in tqdm(G.nodes(data=True), desc=\"handle node missing values\"):\n",
    "        for attr, default_value in default_node_attr.items():\n",
    "            if attr in data:\n",
    "                val = data[attr]\n",
    "                 # If the value is None or NaN, fill in the default value\n",
    "                if val is None or (isinstance(val, float) and np.isnan(val)):\n",
    "                    G.nodes[node][attr] = default_value\n",
    "\n",
    "    for u, v, k, data in tqdm(G.edges(keys=True, data=True), desc=\"handle edge missing values\"):\n",
    "        for attr, default_value in default_edge_attr.items():\n",
    "            if attr in data:\n",
    "                val = data[attr]\n",
    "                if val is None or (isinstance(val, float) and np.isnan(val)):\n",
    "                    G.edges[u, v, k][attr] = default_value\n",
    "                    \n",
    "    \n",
    "    # load the accident dataset\n",
    "    df_acc = pd.read_csv(\"../data/road_accident.csv\")\n",
    "    \n",
    "    nx.set_edge_attributes(G, 0.0, \"accident_score\") \n",
    "    nx.set_edge_attributes(G, 0, \"casualty_count\")    \n",
    "    \n",
    "    coords = list(zip(df_acc[\"Longitude\"], df_acc[\"Latitude\"]))\n",
    "    \n",
    "    # batch find the nearest edge\n",
    "    nearest_edges = ox.distance.nearest_edges(\n",
    "        G,\n",
    "        X=[lon for lon, lat in coords],\n",
    "        Y=[lat for lon, lat in coords],\n",
    "        return_dist=False\n",
    "    )\n",
    "    \n",
    "    severity_score_map = {\"Slight\": 0.1, \"Serious\": 0.5, \"Fatal\": 1.0}\n",
    "    \n",
    "    # Batch update scores and casualty counts\n",
    "    for i, edge in enumerate(tqdm(nearest_edges, desc=\"add accident data\")):\n",
    "        try:\n",
    "            casualty_count = df_acc.at[i, \"_Casualty Count\"]\n",
    "            if pd.isna(casualty_count):\n",
    "                casualty_count = 0\n",
    "            else:\n",
    "                casualty_count = int(casualty_count) \n",
    "            \n",
    "\n",
    "            severity = df_acc.at[i, \"_Casualty Severity\"]\n",
    "            score = -casualty_count * severity_score_map.get(severity, 0.0)\n",
    "            \n",
    "            G.edges[edge][\"accident_score\"] += score\n",
    "            G.edges[edge][\"casualty_count\"] += casualty_count\n",
    "            \n",
    "        except Exception as e:\n",
    "            print(f\"Line {i} failed to process: {e}\")\n",
    "    \n",
    "\n",
    "    ox.save_graphml(G, output_path)\n",
    "    print(f\"The processed network is saved to: {output_path}\")\n",
    "    return G"
   ]
  },
  {
   "cell_type": "code",
   "execution_count": 4,
   "id": "e7e20150-c6aa-40af-9b1d-c04930e63c9d",
   "metadata": {},
   "outputs": [
    {
     "name": "stdout",
     "output_type": "stream",
     "text": [
      "Process and save the network...\n"
     ]
    },
    {
     "name": "stderr",
     "output_type": "stream",
     "text": [
      "convert node attributes: 100%|███████████████████████████████████████████████████████████| 3/3 [00:01<00:00,  2.79it/s]\n",
      "convert edge attrbiutes: 100%|███████████████████████████████████████████████████████████| 8/8 [00:09<00:00,  1.16s/it]\n",
      "handle node missing values: 100%|█████████████████████████████████████████| 327070/327070 [00:00<00:00, 2108164.32it/s]\n",
      "handle edge missing values: 100%|██████████████████████████████████████████| 746627/746627 [00:00<00:00, 881709.93it/s]\n",
      "add accident data: 100%|█████████████████████████████████████████████████████| 15589/15589 [00:00<00:00, 102713.43it/s]\n"
     ]
    },
    {
     "name": "stdout",
     "output_type": "stream",
     "text": [
      "The processed network is saved to: ../data/london_bike_network_accident_score2.0.graphml\n"
     ]
    }
   ],
   "source": [
    "G = process_and_save_network()"
   ]
  },
  {
   "cell_type": "code",
   "execution_count": null,
   "id": "5d5a6dd8-377c-4308-8ff1-3da46b199112",
   "metadata": {},
   "outputs": [],
   "source": []
  },
  {
   "cell_type": "code",
   "execution_count": null,
   "id": "9a2f3b5a-b896-450b-88d1-049b5a351e37",
   "metadata": {},
   "outputs": [],
   "source": []
  },
  {
   "cell_type": "code",
   "execution_count": null,
   "id": "fc273b79-fa8b-4997-af9d-ae5a7bd1cea4",
   "metadata": {},
   "outputs": [],
   "source": []
  }
 ],
 "metadata": {
  "kernelspec": {
   "display_name": "Python (ox)",
   "language": "python",
   "name": "ox"
  },
  "language_info": {
   "codemirror_mode": {
    "name": "ipython",
    "version": 3
   },
   "file_extension": ".py",
   "mimetype": "text/x-python",
   "name": "python",
   "nbconvert_exporter": "python",
   "pygments_lexer": "ipython3",
   "version": "3.12.9"
  }
 },
 "nbformat": 4,
 "nbformat_minor": 5
}
