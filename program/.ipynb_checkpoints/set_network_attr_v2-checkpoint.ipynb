{
 "cells": [
  {
   "cell_type": "code",
   "execution_count": 2,
   "id": "b4d5a683-dce4-4204-b427-fd3b297bc43c",
   "metadata": {},
   "outputs": [],
   "source": [
    "import os\n",
    "import pandas as pd\n",
    "import osmnx as ox\n",
    "from tqdm import tqdm"
   ]
  },
  {
   "cell_type": "code",
   "execution_count": 3,
   "id": "0a148fe8-b861-4d31-a96d-5d47b1f25c60",
   "metadata": {},
   "outputs": [],
   "source": [
    "input_path = '../data/london_bike_network_accident_score.graphml'\n",
    "G = ox.load_graphml(input_path)"
   ]
  },
  {
   "cell_type": "code",
   "execution_count": 4,
   "id": "0d62c114",
   "metadata": {},
   "outputs": [],
   "source": [
    "def load_safety_and_comfort_features_for_edge():\n",
    "    \"\"\"\n",
    "    Read the self-defined weights from safety_features.csv\n",
    "    Return the score mapping dictionary classified by attributes\n",
    "    \"\"\"\n",
    "    # Load safety_features.csv \n",
    "    df_safety_features = pd.read_csv(\"../data/edge_attr_scores.csv\")\n",
    "    df_safety_features.loc[df_safety_features[\"attribute_type\"] == \"lanes\", \"feature_value\"] = df_safety_features.loc[df_safety_features[\"attribute_type\"] == \"lanes\", \"feature_value\"].astype(float)\n",
    "    \n",
    "    attr_list = ['access', 'highway', 'bridge', 'service', 'junction', 'tunnel', 'lanes']\n",
    "    safety_score_map = {}\n",
    "    comfort_score_map = {}\n",
    "    \n",
    "    # Create a score mapping table of edge attribute types\n",
    "    for attr_type in attr_list:\n",
    "        \n",
    "        safety_attr_map = {}\n",
    "        comfort_attr_map = {}\n",
    "        for i, row in df_safety_features[df_safety_features[\"attribute_type\"] == attr_type].iterrows():\n",
    "            # print(row)\n",
    "            safety_attr_map[row[\"feature_value\"]] = float(row[\"safety_score\"])\n",
    "            comfort_attr_map[row[\"feature_value\"]] = float(row[\"comfort_score\"])\n",
    "            \n",
    "        safety_score_map[attr_type] = safety_attr_map\n",
    "        comfort_score_map[attr_type] = comfort_attr_map\n",
    "\n",
    "    return safety_score_map, comfort_score_map "
   ]
  },
  {
   "cell_type": "code",
   "execution_count": 5,
   "id": "ac9b4d7d-50e5-42a5-a959-59bae3fbe272",
   "metadata": {},
   "outputs": [],
   "source": [
    "def load_safety_and_comfort_features_for_node():\n",
    "\n",
    "    # Load safety_features.csv \n",
    "    df_safety_features = pd.read_csv(\"../data/node_attr_scores.csv\")\n",
    "    df_safety_features.loc[df_safety_features[\"attribute_type\"] == \"street_count\", \"feature_value\"] = df_safety_features.loc[df_safety_features[\"attribute_type\"] == \"street_count\", \"feature_value\"].astype(int)\n",
    "    \n",
    "    attr_list = ['street_count', 'highway', 'junction', 'railway']\n",
    "    safety_score_map = {}\n",
    "    comfort_score_map = {}\n",
    "    \n",
    "    # Create a score mapping table of node attribute types\n",
    "    for attr_type in attr_list:\n",
    "        \n",
    "        safety_attr_map = {}\n",
    "        comfort_attr_map = {}\n",
    "        for i, row in df_safety_features[df_safety_features[\"attribute_type\"] == attr_type].iterrows():\n",
    "            # print(row)\n",
    "            safety_attr_map[row[\"feature_value\"]] = float(row[\"safety_score\"])\n",
    "            comfort_attr_map[row[\"feature_value\"]] = float(row[\"comfort_score\"])\n",
    "            \n",
    "        safety_score_map[attr_type] = safety_attr_map\n",
    "        comfort_score_map[attr_type] = comfort_attr_map\n",
    "\n",
    "    return safety_score_map, comfort_score_map "
   ]
  },
  {
   "cell_type": "code",
   "execution_count": 6,
   "id": "c339c2a9-2f65-4924-87ba-c4fb5ea0dfd3",
   "metadata": {},
   "outputs": [],
   "source": [
    "def computeSafetyScoreFromPastAccidentRecord(data):\n",
    "    \"\"\"\n",
    "    Calculate the safety score by considering the accident factors\n",
    "    \"\"\"\n",
    "    if 'accident_score' in data:\n",
    "        return float(data[\"accident_score\"])\n",
    "    else: \n",
    "        return 0.0"
   ]
  },
  {
   "cell_type": "code",
   "execution_count": 7,
   "id": "e1516708",
   "metadata": {},
   "outputs": [],
   "source": [
    "def computeSafetyScoreFromStreetAttribute(data, safety_score_map):\n",
    "    \"\"\"\n",
    "    Traverse the attribute values of the node pairs of each route and \n",
    "    calculate the corresponding safety score based on safety_score_map\n",
    "    \"\"\"\n",
    "    score = 0.0\n",
    "    for attr_type in safety_score_map:\n",
    "        \n",
    "        attr_val = data.get(attr_type)\n",
    "        if attr_val is None:\n",
    "            continue # skip missing attr\n",
    "\n",
    "        # If the attribute value is a list, extend it\n",
    "        if isinstance(attr_val, list):\n",
    "            for val in attr_val:\n",
    "                if val in safety_score_map[attr_type]:\n",
    "                    score += float(safety_score_map[attr_type][val])\n",
    "                    \n",
    "        elif attr_val in safety_score_map[attr_type]:\n",
    "            score += float(safety_score_map[attr_type][attr_val])\n",
    "\n",
    "    return score"
   ]
  },
  {
   "cell_type": "code",
   "execution_count": 8,
   "id": "c0aea8d3-180c-42eb-a4ff-b4334b3a0e11",
   "metadata": {},
   "outputs": [],
   "source": [
    "def computeComfortScoreFromStreetAttribute(data, comfort_score_map):\n",
    "    \"\"\"\n",
    "    Traverse the attribute values of the node pairs of each route and \n",
    "    calculate the corresponding safety score based on comfort_score_map\n",
    "    \"\"\"\n",
    "    score = 0.0\n",
    "    for attr_type in comfort_score_map:\n",
    "        \n",
    "        attr_val = data.get(attr_type)\n",
    "        if attr_val is None:\n",
    "            continue \n",
    "\n",
    "        if isinstance(attr_val, list):\n",
    "            for val in attr_val:\n",
    "                if val in comfort_score_map[attr_type]:\n",
    "                    score += float(comfort_score_map[attr_type][val])\n",
    "                    \n",
    "        elif attr_val in comfort_score_map[attr_type]:\n",
    "            score += float(comfort_score_map[attr_type][attr_val])\n",
    "\n",
    "    return score"
   ]
  },
  {
   "cell_type": "code",
   "execution_count": 9,
   "id": "489fc5c2-a053-4f64-85d2-5b8cb9da6cac",
   "metadata": {},
   "outputs": [],
   "source": [
    "def process_and_save_network(G):\n",
    "  \n",
    "    input_path = '../data/london_bike_network_accident_score.graphml'\n",
    "    output_path = '../data/london_bike_network_safety_comfort_score.graphml'\n",
    "    \n",
    "    if os.path.exists(output_path):\n",
    "        print(\"load the processed network...\")\n",
    "        return ox.load_graphml(output_path)\n",
    "    \n",
    "    print(\"Process and save the network...\")\n",
    "    G = ox.load_graphml(input_path)\n",
    "\n",
    "    \n",
    "    # Load all maps\n",
    "    edge_safety_score_map, edge_comfort_score_map = load_safety_and_comfort_features_for_edge()\n",
    "    node_safety_score_map, node_comfort_score_map = load_safety_and_comfort_features_for_node()\n",
    "    # print(node_safety_score_map)\n",
    "    # print(node_comfort_score_map)\n",
    "\n",
    "    # Loop through all edges of current map\n",
    "    for edge_key in G.edges:\n",
    "        edge_safety_score = computeSafetyScoreFromStreetAttribute(G.edges[edge_key], edge_safety_score_map)\n",
    "        edge_safety_score += computeSafetyScoreFromPastAccidentRecord(G.edges[edge_key])\n",
    "        G.edges[edge_key][\"safety_score\"] = edge_safety_score\n",
    "        \n",
    "        edge_comfort_score = computeComfortScoreFromStreetAttribute(G.edges[edge_key], edge_comfort_score_map)\n",
    "        G.edges[edge_key][\"comfort_score\"] = edge_comfort_score\n",
    "\n",
    "    for node_key in G.nodes:\n",
    "        node_safety_score = computeSafetyScoreFromStreetAttribute(G.nodes[node_key], node_safety_score_map)\n",
    "        G.nodes[node_key][\"safety_score\"] = node_safety_score\n",
    "        \n",
    "        node_comfort_score = computeComfortScoreFromStreetAttribute(G.nodes[node_key], node_comfort_score_map)\n",
    "        G.nodes[node_key][\"comfort_score\"] = node_comfort_score\n",
    "\n",
    "    \n",
    "    ox.save_graphml(G, output_path)\n",
    "    print(f\"The processed network is saved to: {output_path}\")\n",
    "    return G"
   ]
  },
  {
   "cell_type": "code",
   "execution_count": 10,
   "id": "e7e20150-c6aa-40af-9b1d-c04930e63c9d",
   "metadata": {},
   "outputs": [
    {
     "name": "stdout",
     "output_type": "stream",
     "text": [
      "Process and save the network...\n",
      "The processed network is saved to: ../data/london_bike_network_safety_comfort_score.graphml\n"
     ]
    }
   ],
   "source": [
    "G = process_and_save_network(G)"
   ]
  },
  {
   "cell_type": "code",
   "execution_count": null,
   "id": "9eb95b7b-ac40-4cd5-a97f-429b133e7756",
   "metadata": {},
   "outputs": [],
   "source": []
  }
 ],
 "metadata": {
  "kernelspec": {
   "display_name": "Python (ox)",
   "language": "python",
   "name": "ox"
  },
  "language_info": {
   "codemirror_mode": {
    "name": "ipython",
    "version": 3
   },
   "file_extension": ".py",
   "mimetype": "text/x-python",
   "name": "python",
   "nbconvert_exporter": "python",
   "pygments_lexer": "ipython3",
   "version": "3.12.9"
  }
 },
 "nbformat": 4,
 "nbformat_minor": 5
}
