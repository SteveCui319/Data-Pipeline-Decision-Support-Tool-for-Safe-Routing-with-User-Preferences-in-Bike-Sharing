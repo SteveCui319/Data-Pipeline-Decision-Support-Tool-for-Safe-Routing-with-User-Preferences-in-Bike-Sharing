{
 "cells": [
  {
   "cell_type": "code",
   "execution_count": 2,
   "id": "f44b3ba3",
   "metadata": {},
   "outputs": [],
   "source": [
    "import pandas as pd\n",
    "import requests\n",
    "import numpy as np\n",
    "import osmnx as ox\n",
    "import networkx as nx\n",
    "import matplotlib.pyplot as plt\n",
    "import xml.etree.ElementTree as ET\n",
    "from tqdm import tqdm"
   ]
  },
  {
   "cell_type": "code",
   "execution_count": 3,
   "id": "32c056bc",
   "metadata": {},
   "outputs": [],
   "source": [
    "# place = \"London, UK\"\n",
    "# G = ox.graph_from_place(place, network_type=\"bike\")\n",
    "# ox.save_graphml(G, filepath=\"../london_bike_network.graphml\")"
   ]
  },
  {
   "cell_type": "code",
   "execution_count": 4,
   "id": "b3838310",
   "metadata": {},
   "outputs": [],
   "source": [
    "file_path = \"../data/london_bike_network.graphml\"\n",
    "G = ox.load_graphml(file_path)"
   ]
  },
  {
   "cell_type": "code",
   "execution_count": 5,
   "id": "94548432",
   "metadata": {},
   "outputs": [
    {
     "name": "stdout",
     "output_type": "stream",
     "text": [
      "MultiDiGraph with 327070 nodes and 746627 edges\n"
     ]
    }
   ],
   "source": [
    "# visualize the map of London\n",
    "print(G)\n",
    "\n",
    "# fig, ax = ox.plot.plot_graph(G, bgcolor=\"white\", node_color=\"red\", edge_color=\"green\", edge_linewidth=0.5, node_size=2)"
   ]
  },
  {
   "cell_type": "markdown",
   "id": "c00fc15f",
   "metadata": {},
   "source": [
    "#### Extract metrics/criteria/characteristics from OpenStreetMap for assessing bikeability"
   ]
  },
  {
   "cell_type": "code",
   "execution_count": null,
   "id": "b1836472",
   "metadata": {},
   "outputs": [
    {
     "name": "stdout",
     "output_type": "stream",
     "text": [
      "Index(['y', 'x', 'street_count', 'highway', 'junction', 'railway', 'ref',\n",
      "       'geometry'],\n",
      "      dtype='object')\n"
     ]
    }
   ],
   "source": [
    "# extract all attributes from ndoe\n",
    "nodes = ox.graph_to_gdfs(G, nodes=True, edges=False)\n",
    "print(nodes.columns)"
   ]
  },
  {
   "cell_type": "code",
   "execution_count": null,
   "id": "9a293be0-db75-462e-a5cc-dc40ee8dfc37",
   "metadata": {},
   "outputs": [],
   "source": [
    "street_count_list = []\n",
    "railway_list = []\n",
    "junction_node_list = []\n",
    "highway_node_list = []\n",
    "\n",
    "for node, data in G.nodes(data=True):\n",
    "    street_count = data.get(\"street_count\")\n",
    "    railway = data.get(\"railway\")\n",
    "    highway = data.get('highway')\n",
    "    junction = data.get('junction')\n",
    "\n",
    "    street_count_list.append(street_count)\n",
    "    railway_list.append(railway)\n",
    "    junction_node_list.append(junction)\n",
    "    highway_node_list.append(highway)"
   ]
  },
  {
   "cell_type": "code",
   "execution_count": null,
   "id": "2113dec4-c18d-4cdf-8816-783e7314a702",
   "metadata": {},
   "outputs": [
    {
     "name": "stdout",
     "output_type": "stream",
     "text": [
      "Street count: {1, 2, 3, 4, 5, 6, 7, 8}\n"
     ]
    }
   ],
   "source": [
    "unique_street_count = set()\n",
    "for item in street_count_list:\n",
    "    if isinstance(item, list):  \n",
    "        unique_street_count.update(item)\n",
    "    elif item is not None:  \n",
    "        unique_street_count.add(item)\n",
    "\n",
    "print(f\"Street count: {unique_street_count}\")"
   ]
  },
  {
   "cell_type": "code",
   "execution_count": null,
   "id": "b31c17ca-2477-4dd3-8866-a38b0db39fd1",
   "metadata": {},
   "outputs": [
    {
     "name": "stdout",
     "output_type": "stream",
     "text": [
      "railway types: {'switch', 'level_crossing', 'subway_entrance', 'crossing', 'tram_level_crossing'}\n"
     ]
    }
   ],
   "source": [
    "unique_railway = set()\n",
    "for item in railway_list:\n",
    "    if isinstance(item, list):  \n",
    "        unique_railway.update(item)\n",
    "    elif item is not None:  \n",
    "        unique_railway.add(item)\n",
    "\n",
    "print(f\"railway types: {unique_railway}\")"
   ]
  },
  {
   "cell_type": "markdown",
   "id": "f1d5ad17-83c3-4cf9-9b5c-783f53f6a32a",
   "metadata": {},
   "source": [
    "- switch: A turnout is a node used for the bifurcation or merging of railway tracks (such as turning equipment)\n",
    "- level_crossing: a location where railways and roads intersect at the same level, and it usually has railings or traffic lights\n",
    "- tram_level_crossing: At the intersection of the tram and the road, the tram tracks cross the road on the same plane\n",
    "- subway_entrance: The subway entrance refers to the entrance of a subway station, not necessarily the station itself. It is usually used for navigation or accessibility\n",
    "- crossing: Railway pedestrian crossings or entrances may be used for pedestrians or non-motorized vehicles to cross the tracks"
   ]
  },
  {
   "cell_type": "code",
   "execution_count": null,
   "id": "cd8bfdbc-80c7-4a54-a5f2-804799d027b0",
   "metadata": {},
   "outputs": [
    {
     "name": "stdout",
     "output_type": "stream",
     "text": [
      "junction types: {'yes', 'mini_roundabout', 'Fulham Cross', 'roundabout', 'crossroads', 'intersection', 'box'}\n"
     ]
    }
   ],
   "source": [
    "unique_junction_node = set()\n",
    "for item in junction_node_list:\n",
    "    if isinstance(item, list):  \n",
    "        unique_junction_node.update(item)\n",
    "    elif item is not None:  \n",
    "        unique_junction_node.add(item)\n",
    "\n",
    "print(f\"junction types: {unique_junction_node}\")"
   ]
  },
  {
   "cell_type": "markdown",
   "id": "73a91b3c-d2be-40f7-9965-55446906b8c2",
   "metadata": {},
   "source": [
    "- box: a marked area that prohibits parking at intersections and is used to prevent traffic congestion at intersections\n",
    "- intersection: At ordinary intersections or crossroads, special shapes are generally not emphasized\n",
    "- yes: General marking indicates \"This is an intersection\", but no specific type is specified\n",
    "- roundabout: vehicles usually drive in a counterclockwise direction and there are yielding rules\n",
    "- mini_roundabout: Small roundabout, often used in residential areas, may be a circle drawn on the ground rather than a solid structure\n",
    "- Fulham Cross: a place name\n",
    "- crossroads: "
   ]
  },
  {
   "cell_type": "code",
   "execution_count": null,
   "id": "83845123-2199-4430-8c15-1fb1a6159df1",
   "metadata": {},
   "outputs": [
    {
     "name": "stdout",
     "output_type": "stream",
     "text": [
      "highway types: {'traffic_signals;crossing', 'turning_circle', 'mini_roundabout', 'elevator', 'turning_loop', 'give_way', 'street_lamp', 'traffic_signals', 'stop', 'speed_camera', 'crossing', 'motorway_junction'}\n"
     ]
    }
   ],
   "source": [
    "unique_highway_node = set()\n",
    "for item in highway_node_list:\n",
    "    if isinstance(item, list):  \n",
    "        unique_highway_node.update(item)\n",
    "    elif item is not None:  \n",
    "        unique_highway_node.add(item)\n",
    "\n",
    "print(f\"highway types: {unique_highway_node}\")"
   ]
  },
  {
   "cell_type": "markdown",
   "id": "1be05d6c-89fc-4917-ada0-2170166501c7",
   "metadata": {},
   "source": [
    "- give_way: a sign indicating that one must yield at an intersection\n",
    "- turning_loop: The rotary ring, a more complex U-turn structure, is commonly found at the end of public transportation or large lanes"
   ]
  },
  {
   "cell_type": "markdown",
   "id": "ecd23146-ace5-4be1-a4d3-0b3734698962",
   "metadata": {},
   "source": [
    "#### Extract attributes from edge"
   ]
  },
  {
   "cell_type": "code",
   "execution_count": 17,
   "id": "ff6519c6",
   "metadata": {},
   "outputs": [
    {
     "name": "stdout",
     "output_type": "stream",
     "text": [
      "Index(['osmid', 'access', 'highway', 'maxspeed', 'name', 'oneway', 'reversed',\n",
      "       'length', 'geometry', 'lanes', 'ref', 'bridge', 'service', 'junction',\n",
      "       'tunnel', 'width', 'est_width', 'area'],\n",
      "      dtype='object')\n"
     ]
    }
   ],
   "source": [
    "# extract all attributes from edge\n",
    "edges = ox.graph_to_gdfs(G, nodes=False, edges=True)\n",
    "print(edges.columns)"
   ]
  },
  {
   "cell_type": "code",
   "execution_count": 18,
   "id": "068919ac",
   "metadata": {},
   "outputs": [],
   "source": [
    "# list for each attribute\n",
    "access_list = []\n",
    "highway_list = []\n",
    "maxspeed_list = []\n",
    "geometry_list = []       \n",
    "lanes_list = []    \n",
    "bridge_list = []     \n",
    "service_list = []      \n",
    "junction_list = []       \n",
    "tunnel_list = []     \n",
    "width_list = []    \n",
    "est_width_list = []        \n",
    "area_list = []   \n",
    "ref_list = []  "
   ]
  },
  {
   "cell_type": "code",
   "execution_count": null,
   "id": "787edd80",
   "metadata": {},
   "outputs": [],
   "source": [
    "for u, v, data in G.edges(data=True):\n",
    "    access = data.get(\"access\")         \n",
    "    highway = data.get(\"highway\")       \n",
    "    maxspeed = data.get(\"maxspeed\")                 \n",
    "    oneway = data.get(\"oneway\")         \n",
    "    reversed_rd = data.get(\"reversed\")  \n",
    "    geometry = data.get(\"geometry\")             \n",
    "    lanes = data.get(\"lanes\")                 \n",
    "    bridge = data.get(\"bridge\")                \n",
    "    service = data.get(\"service\")               \n",
    "    junction = data.get(\"junction\")             \n",
    "    tunnel = data.get(\"tunnel\")                \n",
    "    width = data.get(\"width\")                \n",
    "    est_width = data.get(\"est_width\")                  \n",
    "    area = data.get(\"area\")             \n",
    "    ref = data.get(\"ref\")               \n",
    "    \n",
    "    access_list.append(access)\n",
    "    highway_list.append(highway)\n",
    "    maxspeed_list.append(maxspeed)\n",
    "    geometry_list.append(geometry)       \n",
    "    lanes_list.append(lanes)    \n",
    "    bridge_list.append(bridge)     \n",
    "    service_list.append(service)      \n",
    "    junction_list.append(junction)       \n",
    "    tunnel_list.append(tunnel)     \n",
    "    width_list.append(width)    \n",
    "    est_width_list.append(est_width)        \n",
    "    area_list.append(area)   \n",
    "    ref_list.append(ref) "
   ]
  },
  {
   "cell_type": "code",
   "execution_count": null,
   "id": "fc120d4d",
   "metadata": {},
   "outputs": [
    {
     "name": "stdout",
     "output_type": "stream",
     "text": [
      "Access types: {'yes', 'customers', 'restricted', 'destination', 'agricultural', 'residents', 'taxi', 'no', 'designated', 'construction', 'delivery', 'staff', 'unknown', 'permit', 'permissive', 'emergency'}\n"
     ]
    }
   ],
   "source": [
    "unique_access = set()\n",
    "for item in access_list:\n",
    "    if isinstance(item, list):  \n",
    "        unique_access.update(item)\n",
    "    elif item is not None: \n",
    "        unique_access.add(item)\n",
    "\n",
    "print(f\"Access types: {unique_access}\")"
   ]
  },
  {
   "cell_type": "markdown",
   "id": "8fb1b2a3",
   "metadata": {},
   "source": [
    "    - staff: Access restricted to staff members only.\n",
    "    - delivery: Access allowed for delivery vehicles.\n",
    "    - agricultural: Intended for agricultural use, such as farm vehicles.\n",
    "    - residents: Access restricted to local residents.\n",
    "    - emergency: Only emergency vehicles (e.g., ambulance, fire truck) are allowed.\n",
    "    - taxi: Access permitted for taxis.\n",
    "    - permissive: Access is allowed by informal or revocable permission, not a legal right.\n",
    "    - no: Access is prohibited.\n",
    "    - unknown: Access conditions are unknown.\n",
    "    - yes: Access is allowed for the general public.\n",
    "    - designated: Specifically designated for certain users or vehicles (e.g., bicycles, pedestrians).\n",
    "    - destination: Only vehicles with a destination on that road are allowed; through traffic is restricted.\n",
    "    - restricted: Access is restricted and may require special permission.\n",
    "    - permit: A formal permit is required for access.\n",
    "    - construction: Access is limited to construction vehicles or only during construction periods.\n",
    "    - customers: Access is allowed for customers of a shop or service facility."
   ]
  },
  {
   "cell_type": "code",
   "execution_count": 22,
   "id": "55568627",
   "metadata": {},
   "outputs": [
    {
     "name": "stdout",
     "output_type": "stream",
     "text": [
      "Highway types: {'services', 'bridleway', 'primary', 'track', 'residential', 'crossing', 'disused', 'cycleway', 'pedestrian', 'trunk', 'tertiary', 'road', 'service', 'unclassified', 'secondary', 'primary_link', 'path', 'busway', 'secondary_link', 'trunk_link', 'living_street', 'tertiary_link'}\n"
     ]
    }
   ],
   "source": [
    "# 道路类型\n",
    "unique_highway = set()\n",
    "for item in highway_list:\n",
    "    if isinstance(item, list): \n",
    "        unique_highway.update(item)\n",
    "    elif item is not None:  \n",
    "        unique_highway.add(item)\n",
    "\n",
    "print(f\"Highway types: {unique_highway}\")"
   ]
  },
  {
   "cell_type": "markdown",
   "id": "220e7c0c",
   "metadata": {},
   "source": [
    "#### 主要道路类型\n",
    "    - motorway：高速公路，仅限机动车通行，通常是高速度、长距离的主干道\n",
    "    - trunk：干线公路，连接城市的重要道路，比高速公路等级稍低\n",
    "    - primary：主干道，在城市或地区中起主要交通功能，连接主要城市或地区\n",
    "    - secondary：次干道，连接较小的城镇或区域，通常次于 primary\n",
    "    - tertiary：三级道路，连接地方道路与主干道，服务于本地交通\n",
    "    - unclassified：未分类道路，通常是地方性道路，但不属于 residential 或 service 类别\n",
    "    - living_street：生活街区，行人和车辆共享空间，通常限速较低，适用于居民区\n",
    "\n",
    "#### 次级道路和辅助道路\n",
    "    - motorway_link / trunk_link / primary_link / secondary_link / tertiary_link：各种道路的连接匝道，用于连接主干道和次级道路\n",
    "    - service：服务性道路，如停车场、工业区或私人道路\n",
    "    - services：类似 service，可能是不同地区的命名方式\n",
    "    \n",
    "#### 非机动车和特殊用途道路\n",
    "    - cycleway：自行车道，仅允许自行车通行，可能独立于机动车道路\n",
    "    - path：通用小路，可用于行人、自行车、马匹等，适用于乡村和公园\n",
    "    - bridleway：骑马专用道，通常禁止机动车行驶\n",
    "    - pedestrian：步行街，仅允许行人通过，可能包括商业区或公园步道\n",
    "    - track：土路或非铺装道路，通常用于农业或森林通道\n",
    "    - residential：住宅区的街道\n",
    "    \n",
    "#### 其他类型\n",
    "    - crossing：人行横道或过街设施\n",
    "    - busway：公交专用道，仅允许公交车通行\n",
    "    - disused：废弃道路，不再作为正式道路使用"
   ]
  },
  {
   "cell_type": "code",
   "execution_count": 24,
   "id": "4fa2ba1a",
   "metadata": {},
   "outputs": [
    {
     "name": "stdout",
     "output_type": "stream",
     "text": [
      "最高限速: {'30 mph', '20 mph', '12 mph', '10 mph', '15 mph', '40 mph', '7', '50 mph', '5', '64', 'walk', '4 mph', '60 mph', '3 mph', '70 mph', '5 mph'}\n"
     ]
    }
   ],
   "source": [
    "unique_maxspeed = set()\n",
    "for item in maxspeed_list:\n",
    "    if isinstance(item, list):  \n",
    "        unique_maxspeed.update(item)\n",
    "    elif item is not None:  \n",
    "        unique_maxspeed.add(item)\n",
    "\n",
    "print(f\"最高限速: {unique_maxspeed}\")"
   ]
  },
  {
   "cell_type": "code",
   "execution_count": 25,
   "id": "5a9e207f",
   "metadata": {},
   "outputs": [
    {
     "name": "stdout",
     "output_type": "stream",
     "text": [
      "{'3', '1.5', '20', '4', '2', '7', '5', '0', '6', '1', '8'}\n"
     ]
    }
   ],
   "source": [
    "# 道路的车道数\n",
    "unique_lanes = set()\n",
    "for item in lanes_list:\n",
    "    if isinstance(item, list):\n",
    "        unique_lanes.update(item)\n",
    "    elif item is not None:  \n",
    "        unique_lanes.add(item)\n",
    "        \n",
    "print(unique_lanes)"
   ]
  },
  {
   "cell_type": "code",
   "execution_count": 26,
   "id": "6fd93b48",
   "metadata": {},
   "outputs": [
    {
     "name": "stdout",
     "output_type": "stream",
     "text": [
      "{'yes', 'boardwalk', 'movable', 'viaduct', 'pier'}\n"
     ]
    }
   ],
   "source": [
    "unique_bridge = set()\n",
    "for item in bridge_list:\n",
    "    if isinstance(item, list):\n",
    "        unique_bridge.update(item)\n",
    "    elif item is not None:  \n",
    "        unique_bridge.add(item)\n",
    "        \n",
    "print(unique_bridge)"
   ]
  },
  {
   "cell_type": "markdown",
   "id": "fde41c40",
   "metadata": {},
   "source": [
    "    - viaduct：高架桥，通常用于跨越山谷、河流或其他障碍物，通常比普通桥梁更长\n",
    "    - yes：表示该道路是桥梁，但未指定具体类型\n",
    "    - pier：码头桥，通常是延伸到水域的结构，用于停靠船只或供人们行走\n",
    "    - boardwalk：木板路，通常是高架的步道，可能用于穿越湿地、森林或海滨区域\n",
    "    - movable：可移动桥，指可以打开或升起以允许船只通过的桥梁，例如升降桥或旋转桥"
   ]
  },
  {
   "cell_type": "code",
   "execution_count": 28,
   "id": "6c4ecc69",
   "metadata": {},
   "outputs": [
    {
     "name": "stdout",
     "output_type": "stream",
     "text": [
      "{'layby', 'alleyway', 'delivery', 'residential', 'unknown', 'emergency', 'garages', 'road', 'Service_Road', 'bus', 'access', 'alley', 'drive', 'taxi', 'driveway', 'slipway', 'yard', 'bus_station', 'parking', 'fuel', 'ar', 'ramp', 'parking_aisle', 'emergency_access', 'psv', 'drive-through'}\n"
     ]
    }
   ],
   "source": [
    "# 用于描述次要道路或服务道路的用途\n",
    "unique_service = set()\n",
    "for item in service_list:\n",
    "    if isinstance(item, list):\n",
    "        unique_service.update(item)\n",
    "    elif item is not None:  \n",
    "        unique_service.add(item)\n",
    "        \n",
    "print(unique_service)"
   ]
  },
  {
   "cell_type": "markdown",
   "id": "465b73dc",
   "metadata": {},
   "source": [
    "#### 住宅和通用服务道路\n",
    "    - residential：住宅区内部的道路。\n",
    "    - road：一般道路，通常用于临时标记用途，不建议长期使用。\n",
    "\n",
    "#### 交通相关服务道路\n",
    "    - driveway：私人车道，通常连接私人住宅或建筑物入口。\n",
    "    - drive：类似 driveway，可能用于不同地区的标记。\n",
    "    - parking：停车区域内的道路。\n",
    "    - parking_aisle：停车场内部的车道。\n",
    "    - bus_station：公交车站内部的道路或站台区域。\n",
    "    - bus：可能用于标记公交相关的道路。\n",
    "\n",
    "#### 物流与商业用途\n",
    "    - delivery：专门用于货物配送的道路。\n",
    "    - drive-through：提供给汽车穿过的商业设施道路，如快餐店、银行等。\n",
    "    - fuel：加油站内部的道路。\n",
    "    - garages：车库或维修站内的道路。\n",
    "\n",
    "#### 小巷及狭窄道路\n",
    "    - alley/alleyway：狭窄的小巷，通常在城市中作为步行道或后街。\n",
    "    - yard：工业区或仓库区域内的道路。\n",
    "    - layby：临时停车带或紧急停车区。\n",
    "\n",
    "#### 应急与特殊用途\n",
    "    - emergency_access/emergency：仅供紧急服务（如救护车、消防车）使用的道路。\n",
    "    - ramp：匝道或坡道，用于连接不同高度的道路。\n",
    "    - slipway：船只下水坡道，通常用于水上交通设施。\n",
    "\n",
    "#### 公共交通相关\n",
    "    - taxi：出租车专用道路或停车区。\n",
    "    - psv（Public Service Vehicle）：公共交通车辆专用道，如公交车专用道。\n",
    "\n",
    "#### 其他\n",
    "    - access：一般访问道路，可能带有额外的访问限制信息。\n",
    "    - Service_Road：广义的服务道路，通常用于连接高速公路、工业区或特殊设施。\n",
    "    - unknown：不明确的服务道路类别。"
   ]
  },
  {
   "cell_type": "code",
   "execution_count": 30,
   "id": "4ffc0fb3",
   "metadata": {},
   "outputs": [
    {
     "name": "stdout",
     "output_type": "stream",
     "text": [
      "{'turning_loop', 'roundabout', 'jughandle', 'intersection', 'gyratory', 'circular', 'teardrop', 'approach'}\n"
     ]
    }
   ],
   "source": [
    "# （交叉口）属性用于描述道路交汇的类型\n",
    "unique_junction = set()\n",
    "for item in junction_list:\n",
    "    if isinstance(item, list):\n",
    "        unique_junction.update(item)\n",
    "    elif item is not None:  \n",
    "        unique_junction.add(item)\n",
    "        \n",
    "print(unique_junction)"
   ]
  },
  {
   "cell_type": "markdown",
   "id": "bb486d85",
   "metadata": {},
   "source": [
    "#### 传统交叉口\n",
    "    - intersection：普通交叉口，指两条或多条道路在同一平面相交的点。\n",
    "    - approach：通常表示接近交叉口的道路部分，但具体意义可能需要结合上下文。\n",
    "\n",
    "#### 环形交叉口\n",
    "    - roundabout：标准的环形交叉口（环岛），车辆需要按顺时针或逆时针行驶绕圈，并在合适的位置驶出。\n",
    "    - circular：类似于 roundabout，但可能允许更自由的进出，而不是完全受控的环形交叉口。\n",
    "    - gyratory：大型环形交叉口，通常有多个车道，可能有交通灯控制，比一般的 roundabout 复杂。\n",
    "\n",
    "#### 特殊类型的交叉口\n",
    "    - jughandle：一种 U 形匝道，通常用于美国部分州，要求驾驶员先驶出主干道，再从辅助道路转弯，以避免直接左转或 U 形转弯。\n",
    "    - turning_loop：终点掉头环，通常用于无出口道路，供车辆掉头。\n",
    "    - teardrop：泪滴形的交叉口，可能用于管理高流量的交叉口或匝道，提供更平滑的车流分布。"
   ]
  },
  {
   "cell_type": "code",
   "execution_count": 32,
   "id": "144f5561",
   "metadata": {},
   "outputs": [
    {
     "name": "stdout",
     "output_type": "stream",
     "text": [
      "{'yes', 'no', 'covered', 'building_passage', 'passage'}\n"
     ]
    }
   ],
   "source": [
    "unique_tunnel = set()\n",
    "for item in tunnel_list:\n",
    "    if isinstance(item, list):\n",
    "        unique_tunnel.update(item)\n",
    "    elif item is not None:  \n",
    "        unique_tunnel.add(item)\n",
    "        \n",
    "print(unique_tunnel)"
   ]
  },
  {
   "cell_type": "markdown",
   "id": "7add00fc",
   "metadata": {},
   "source": [
    "#### 基本隧道标识\n",
    "    - yes：表示该道路是一个标准的隧道，通常是穿山、地下或其他封闭通道。\n",
    "    - no：表示该道路不是隧道。\n",
    "\n",
    "#### 特殊类型的通道\n",
    "    - passage：一般通道，可能是较小的人行或自行车隧道，而不是大型公路隧道。\n",
    "    - building_passage：建筑通道，指穿过建筑物的道路或步行道，例如城市中的穿楼通道。\n",
    "    - covered：覆盖道路，可能不是传统意义上的隧道，而是上方有建筑物或结构遮盖的道路。"
   ]
  },
  {
   "cell_type": "code",
   "execution_count": 34,
   "id": "cb5ae6b3",
   "metadata": {},
   "outputs": [
    {
     "name": "stdout",
     "output_type": "stream",
     "text": [
      "{'2.25', '11', '10.6', '9.9', '4', '10.4', '2.0', '4.4', '7.4', '3', '17.2', '5.2', '2.7', '2.17', '2.4', '5.4', '9.1', '1.5 m', '9.3', '5 m', '3.5', '2.9', '8.2', '7.3', '8.6', '3.9', '8.5', '8.7', '7.6', '8.3', '5.7', '2', '12', '6', '10.8', '0.8 m', '3.1', '10.5', '5.6', '2.1', '0.9', '0.2 m', '10 m', '12.4', '2.2', '2 m', '4.6', '7.9', '0', '4.9', '1.5', '0.3', '7', '7.5', '1.6', '1.0', '5.5', '1.1', '1.75', '11.4', '6.9', '2.5 m', '0.6', '7.1', '8.8', '1.8', '18', '5.9', '10', '14', '10.7', '8', '3.0', '11.1', '1.2 m', '0.3m', '11.7', '6.3', '0.5', '10.2', '15', '2.6', '3.75', '6.6', '4.5', '3.7', '0.7 m', '2.13', '9.6', '1.7', '14.6', '12.6', '7.25', '7.7', '0.75', '12.5', '11.9', '1m', '8.9', '5', '2.5', '7.2', '4 m', '21', '3.6', '2.8', '7.8', '5.1', '8.1', '5.3', '6.5', '15.4', '9.2', '4.8', '6\\'6\"', '4.1', '1.9', '9.8', '0.4 m', '13', '6 ft 6', '1.3', '9', '8.4', '0.3 m', '5.8', '3.3', '1', '0.8', '6.4', '2.3', '4.7', '1.4', '3.8', '6.8', '1 m', '6.7', '0.2', '3 m', '0.7', '12.1', '9.5', '1.2', '2.0 m', '3.2', '4.3', '6.1', '9.4', '0.5 m', '2m', '1.25', '3.4', '4.2', '6 m', '6.2'}\n"
     ]
    }
   ],
   "source": [
    "unique_width = set()\n",
    "for item in width_list:\n",
    "    if isinstance(item, list):\n",
    "        unique_width.update(item)\n",
    "    elif item is not None:  \n",
    "        unique_width.add(item)\n",
    "        \n",
    "print(unique_width)"
   ]
  },
  {
   "cell_type": "code",
   "execution_count": 35,
   "id": "b9787196",
   "metadata": {},
   "outputs": [
    {
     "name": "stdout",
     "output_type": "stream",
     "text": [
      "{'2', '4m', '6', '8.5m', '5m', '4', '4.5m', '1', 'est_width', '5ft', '3', '2.5m', '4.5', '3.5m', '1.5', '20', '5', '2m', '1.25', '3.5', '2.5', '1.75'}\n"
     ]
    }
   ],
   "source": [
    "unique_est_width = set()\n",
    "for item in est_width_list:\n",
    "    if isinstance(item, list):\n",
    "        unique_est_width.update(item)\n",
    "    elif item is not None:  \n",
    "        unique_est_width.add(item)\n",
    "        \n",
    "print(unique_est_width)"
   ]
  },
  {
   "cell_type": "code",
   "execution_count": 36,
   "id": "f637a6d3",
   "metadata": {},
   "outputs": [
    {
     "name": "stdout",
     "output_type": "stream",
     "text": [
      "{'no'}\n"
     ]
    }
   ],
   "source": [
    "unique_area = set()\n",
    "for item in area_list:\n",
    "    if isinstance(item, list):\n",
    "        unique_area.update(item)\n",
    "    elif item is not None:  \n",
    "        unique_area.add(item)\n",
    "        \n",
    "print(unique_area)"
   ]
  },
  {
   "cell_type": "code",
   "execution_count": 37,
   "id": "290c0768",
   "metadata": {
    "scrolled": true
   },
   "outputs": [
    {
     "name": "stdout",
     "output_type": "stream",
     "text": [
      "['A1240', 'B274', 'A221', 'B209', 'A2218', 'A2001', 'B240', 'A239', 'B168', 'A302', 'A402', 'A5202', 'B326', 'B206', 'FP 8', 'A3113', 'B116', 'A2204', 'B210', '97']\n"
     ]
    }
   ],
   "source": [
    "unique_ref = set()\n",
    "for item in ref_list:\n",
    "    if isinstance(item, list):\n",
    "        unique_ref.update(item)\n",
    "    elif item is not None:  \n",
    "        unique_ref.add(item)\n",
    "        \n",
    "print(list(unique_ref)[:20])"
   ]
  },
  {
   "cell_type": "code",
   "execution_count": 38,
   "id": "0623f775",
   "metadata": {},
   "outputs": [
    {
     "name": "stdout",
     "output_type": "stream",
     "text": [
      "[None, None, <LINESTRING (-0.1 51.527, -0.1 51.527, -0.1 51.528, -0.1 51.528)>, None, <LINESTRING (-0.2 51.524, -0.2 51.524, -0.2 51.524)>]\n"
     ]
    }
   ],
   "source": [
    "print(geometry_list[:5])"
   ]
  },
  {
   "cell_type": "markdown",
   "id": "2e9d143b",
   "metadata": {},
   "source": [
    "    - id：站点的唯一标识符。\n",
    "    - Station：站点的名称或标签，便于识别。\n",
    "    - lat：站点所在位置的纬度坐标。\n",
    "    - long：站点所在位置的经度坐标。\n",
    "    - installed：标记该站点是否已经安装并投入使用（值通常为true或false）。\n",
    "    - locked：指示站点是否处于锁定状态（例如因维护或其它原因暂时不可用）。\n",
    "    - installDate：站点投入使用的日期。\n",
    "    - removalDate：如果站点已经下线或移除，此字段会显示移除日期。\n",
    "    - temporary：标识该站点是否为临时站点，通常用于特殊或临时调度的情况。\n",
    "    - nbBikes：当前站点可用的自行车数量。\n",
    "    - nbEmptyDocks：当前站点空闲的自行车停车位数量。"
   ]
  },
  {
   "cell_type": "markdown",
   "id": "fa0b99ce-3255-455b-afa0-8db731748ddc",
   "metadata": {},
   "source": [
    "#### XML dataset ouput"
   ]
  },
  {
   "cell_type": "code",
   "execution_count": 41,
   "id": "9e7f0ee2",
   "metadata": {},
   "outputs": [
    {
     "data": {
      "text/html": [
       "<div>\n",
       "<style scoped>\n",
       "    .dataframe tbody tr th:only-of-type {\n",
       "        vertical-align: middle;\n",
       "    }\n",
       "\n",
       "    .dataframe tbody tr th {\n",
       "        vertical-align: top;\n",
       "    }\n",
       "\n",
       "    .dataframe thead th {\n",
       "        text-align: right;\n",
       "    }\n",
       "</style>\n",
       "<table border=\"1\" class=\"dataframe\">\n",
       "  <thead>\n",
       "    <tr style=\"text-align: right;\">\n",
       "      <th></th>\n",
       "      <th>ID</th>\n",
       "      <th>Station</th>\n",
       "      <th>Latitude</th>\n",
       "      <th>Longitude</th>\n",
       "      <th>Installed</th>\n",
       "      <th>locked</th>\n",
       "      <th>Temporary Station</th>\n",
       "      <th>Available Bikes</th>\n",
       "      <th>Standard Bikes</th>\n",
       "      <th>E-Bikes</th>\n",
       "      <th>Empty Docks</th>\n",
       "      <th>Total Docks</th>\n",
       "    </tr>\n",
       "  </thead>\n",
       "  <tbody>\n",
       "    <tr>\n",
       "      <th>0</th>\n",
       "      <td>1</td>\n",
       "      <td>River Street , Clerkenwell</td>\n",
       "      <td>51.52916347</td>\n",
       "      <td>-0.109970527</td>\n",
       "      <td>true</td>\n",
       "      <td>false</td>\n",
       "      <td>false</td>\n",
       "      <td>4</td>\n",
       "      <td>2</td>\n",
       "      <td>2</td>\n",
       "      <td>15</td>\n",
       "      <td>19</td>\n",
       "    </tr>\n",
       "    <tr>\n",
       "      <th>1</th>\n",
       "      <td>2</td>\n",
       "      <td>Phillimore Gardens, Kensington</td>\n",
       "      <td>51.49960695</td>\n",
       "      <td>-0.197574246</td>\n",
       "      <td>true</td>\n",
       "      <td>false</td>\n",
       "      <td>false</td>\n",
       "      <td>31</td>\n",
       "      <td>26</td>\n",
       "      <td>5</td>\n",
       "      <td>4</td>\n",
       "      <td>37</td>\n",
       "    </tr>\n",
       "    <tr>\n",
       "      <th>2</th>\n",
       "      <td>3</td>\n",
       "      <td>Christopher Street, Liverpool Street</td>\n",
       "      <td>51.52128377</td>\n",
       "      <td>-0.084605692</td>\n",
       "      <td>true</td>\n",
       "      <td>false</td>\n",
       "      <td>false</td>\n",
       "      <td>8</td>\n",
       "      <td>5</td>\n",
       "      <td>3</td>\n",
       "      <td>23</td>\n",
       "      <td>32</td>\n",
       "    </tr>\n",
       "    <tr>\n",
       "      <th>3</th>\n",
       "      <td>4</td>\n",
       "      <td>St. Chad's Street, King's Cross</td>\n",
       "      <td>51.53005939</td>\n",
       "      <td>-0.120973687</td>\n",
       "      <td>true</td>\n",
       "      <td>false</td>\n",
       "      <td>false</td>\n",
       "      <td>8</td>\n",
       "      <td>5</td>\n",
       "      <td>3</td>\n",
       "      <td>13</td>\n",
       "      <td>23</td>\n",
       "    </tr>\n",
       "    <tr>\n",
       "      <th>4</th>\n",
       "      <td>5</td>\n",
       "      <td>Sedding Street, Sloane Square</td>\n",
       "      <td>51.49313</td>\n",
       "      <td>-0.156876</td>\n",
       "      <td>true</td>\n",
       "      <td>false</td>\n",
       "      <td>false</td>\n",
       "      <td>10</td>\n",
       "      <td>9</td>\n",
       "      <td>1</td>\n",
       "      <td>16</td>\n",
       "      <td>27</td>\n",
       "    </tr>\n",
       "  </tbody>\n",
       "</table>\n",
       "</div>"
      ],
      "text/plain": [
       "  ID                               Station     Latitude     Longitude  \\\n",
       "0  1            River Street , Clerkenwell  51.52916347  -0.109970527   \n",
       "1  2        Phillimore Gardens, Kensington  51.49960695  -0.197574246   \n",
       "2  3  Christopher Street, Liverpool Street  51.52128377  -0.084605692   \n",
       "3  4       St. Chad's Street, King's Cross  51.53005939  -0.120973687   \n",
       "4  5         Sedding Street, Sloane Square     51.49313     -0.156876   \n",
       "\n",
       "  Installed locked Temporary Station Available Bikes Standard Bikes E-Bikes  \\\n",
       "0      true  false             false               4              2       2   \n",
       "1      true  false             false              31             26       5   \n",
       "2      true  false             false               8              5       3   \n",
       "3      true  false             false               8              5       3   \n",
       "4      true  false             false              10              9       1   \n",
       "\n",
       "  Empty Docks Total Docks  \n",
       "0          15          19  \n",
       "1           4          37  \n",
       "2          23          32  \n",
       "3          13          23  \n",
       "4          16          27  "
      ]
     },
     "execution_count": 41,
     "metadata": {},
     "output_type": "execute_result"
    }
   ],
   "source": [
    "# Requesting an API for XML data\n",
    "url = \"https://tfl.gov.uk/tfl/syndication/feeds/cycle-hire/livecyclehireupdates.xml\"\n",
    "response = requests.get(url)\n",
    "\n",
    "# parse XML\n",
    "root = ET.fromstring(response.content)\n",
    "\n",
    "data = []\n",
    "# Read information about shared bike stations\n",
    "for station in root.findall('station'):\n",
    "    station_id = station.find('id').text\n",
    "    station_name = station.find('name').text\n",
    "    lat = station.find('lat').text\n",
    "    lng = station.find('long').text\n",
    "    installed = station.find('installed').text\n",
    "    locked = station.find('locked').text\n",
    "    tempStation = station.find('temporary').text\n",
    "    bikes_available = station.find('nbBikes').text\n",
    "    standardBikes = station.find('nbStandardBikes').text\n",
    "    eBikes = station.find('nbEBikes').text\n",
    "    docks_available = station.find('nbEmptyDocks').text\n",
    "    total_docks = station.find('nbDocks').text\n",
    "\n",
    "#     print(f\"ID: {station_id}, Station: {station_name}, Location: ({lat}, {lng})\")\n",
    "#     print(f\"installed: {installed}, locked: {locked}, tempStation: {tempStation}, standard bike: {standardBikes}, eBikes: {eBikes}\")\n",
    "#     print(f\"可用单车数: {bikes_available}, 可用停放点数: {docks_available}, 总泊车位: {total_docks}\")\n",
    "#     print(\"-\" * 50)\n",
    "    \n",
    "    data.append([station_id, station_name, lat, lng, installed, locked, tempStation, bikes_available, standardBikes, eBikes, docks_available, total_docks])\n",
    "\n",
    "\n",
    "df = pd.DataFrame(data, columns=[\"ID\", \"Station\", \"Latitude\", \"Longitude\", \"Installed\", \"locked\", \"Temporary Station\", \"Available Bikes\", \"Standard Bikes\", \"E-Bikes\", \"Empty Docks\", \"Total Docks\"])\n",
    "df.head()"
   ]
  },
  {
   "cell_type": "code",
   "execution_count": null,
   "id": "f2e0456a",
   "metadata": {},
   "outputs": [],
   "source": []
  },
  {
   "cell_type": "code",
   "execution_count": null,
   "id": "34d5f24c",
   "metadata": {},
   "outputs": [],
   "source": []
  }
 ],
 "metadata": {
  "kernelspec": {
   "display_name": "Python (ox)",
   "language": "python",
   "name": "ox"
  },
  "language_info": {
   "codemirror_mode": {
    "name": "ipython",
    "version": 3
   },
   "file_extension": ".py",
   "mimetype": "text/x-python",
   "name": "python",
   "nbconvert_exporter": "python",
   "pygments_lexer": "ipython3",
   "version": "3.12.9"
  }
 },
 "nbformat": 4,
 "nbformat_minor": 5
}
