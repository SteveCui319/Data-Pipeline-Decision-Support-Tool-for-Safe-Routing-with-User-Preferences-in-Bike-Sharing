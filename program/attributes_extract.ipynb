{
 "cells": [
  {
   "cell_type": "code",
   "execution_count": 1,
   "id": "f44b3ba3",
   "metadata": {},
   "outputs": [],
   "source": [
    "import pandas as pd\n",
    "import requests\n",
    "import numpy as np\n",
    "import osmnx as ox\n",
    "import networkx as nx\n",
    "import matplotlib.pyplot as plt\n",
    "import xml.etree.ElementTree as ET\n",
    "from tqdm import tqdm"
   ]
  },
  {
   "cell_type": "code",
   "execution_count": 2,
   "id": "32c056bc",
   "metadata": {},
   "outputs": [],
   "source": [
    "# place = \"London, UK\"\n",
    "# G = ox.graph_from_place(place, network_type=\"bike\")\n",
    "# ox.save_graphml(G, filepath=\"../london_bike_network.graphml\")"
   ]
  },
  {
   "cell_type": "code",
   "execution_count": 3,
   "id": "b3838310",
   "metadata": {},
   "outputs": [],
   "source": [
    "file_path = \"../data/london_bike_network.graphml\"\n",
    "G = ox.load_graphml(file_path)"
   ]
  },
  {
   "cell_type": "code",
   "execution_count": 4,
   "id": "94548432",
   "metadata": {},
   "outputs": [
    {
     "name": "stdout",
     "output_type": "stream",
     "text": [
      "MultiDiGraph with 327070 nodes and 746627 edges\n"
     ]
    }
   ],
   "source": [
    "# visualize the map of London\n",
    "print(G)\n",
    "\n",
    "# fig, ax = ox.plot.plot_graph(G, bgcolor=\"white\", node_color=\"red\", edge_color=\"green\", edge_linewidth=0.5, node_size=2)"
   ]
  },
  {
   "cell_type": "markdown",
   "id": "c00fc15f",
   "metadata": {},
   "source": [
    "#### Extract metrics/criteria/characteristics from OpenStreetMap for assessing bikeability"
   ]
  },
  {
   "cell_type": "code",
   "execution_count": 6,
   "id": "b1836472",
   "metadata": {},
   "outputs": [
    {
     "name": "stdout",
     "output_type": "stream",
     "text": [
      "Index(['y', 'x', 'street_count', 'highway', 'junction', 'railway', 'ref',\n",
      "       'geometry'],\n",
      "      dtype='object')\n"
     ]
    }
   ],
   "source": [
    "# extract all attributes from ndoe\n",
    "nodes = ox.graph_to_gdfs(G, nodes=True, edges=False)\n",
    "print(nodes.columns)"
   ]
  },
  {
   "cell_type": "code",
   "execution_count": 7,
   "id": "9a293be0-db75-462e-a5cc-dc40ee8dfc37",
   "metadata": {},
   "outputs": [],
   "source": [
    "street_count_list = []\n",
    "railway_list = []\n",
    "junction_node_list = []\n",
    "highway_node_list = []\n",
    "\n",
    "for node, data in G.nodes(data=True):\n",
    "    street_count = data.get(\"street_count\")\n",
    "    railway = data.get(\"railway\")\n",
    "    highway = data.get('highway')\n",
    "    junction = data.get('junction')\n",
    "\n",
    "    street_count_list.append(street_count)\n",
    "    railway_list.append(railway)\n",
    "    junction_node_list.append(junction)\n",
    "    highway_node_list.append(highway)"
   ]
  },
  {
   "cell_type": "code",
   "execution_count": 8,
   "id": "2113dec4-c18d-4cdf-8816-783e7314a702",
   "metadata": {},
   "outputs": [
    {
     "name": "stdout",
     "output_type": "stream",
     "text": [
      "Street count: {1, 2, 3, 4, 5, 6, 7, 8}\n"
     ]
    }
   ],
   "source": [
    "unique_street_count = set()\n",
    "for item in street_count_list:\n",
    "    if isinstance(item, list):  \n",
    "        unique_street_count.update(item)\n",
    "    elif item is not None:  \n",
    "        unique_street_count.add(item)\n",
    "\n",
    "print(f\"Street count: {unique_street_count}\")"
   ]
  },
  {
   "cell_type": "code",
   "execution_count": 9,
   "id": "b31c17ca-2477-4dd3-8866-a38b0db39fd1",
   "metadata": {},
   "outputs": [
    {
     "name": "stdout",
     "output_type": "stream",
     "text": [
      "railway types: {'level_crossing', 'switch', 'tram_level_crossing', 'subway_entrance', 'crossing'}\n"
     ]
    }
   ],
   "source": [
    "unique_railway = set()\n",
    "for item in railway_list:\n",
    "    if isinstance(item, list):  \n",
    "        unique_railway.update(item)\n",
    "    elif item is not None:  \n",
    "        unique_railway.add(item)\n",
    "\n",
    "print(f\"railway types: {unique_railway}\")"
   ]
  },
  {
   "cell_type": "markdown",
   "id": "f1d5ad17-83c3-4cf9-9b5c-783f53f6a32a",
   "metadata": {},
   "source": [
    "- switch: A turnout is a node used for the bifurcation or merging of railway tracks (such as turning equipment)\n",
    "- level_crossing: a location where railways and roads intersect at the same level, and it usually has railings or traffic lights\n",
    "- tram_level_crossing: At the intersection of the tram and the road, the tram tracks cross the road on the same plane\n",
    "- subway_entrance: The subway entrance refers to the entrance of a subway station, not necessarily the station itself. It is usually used for navigation or accessibility\n",
    "- crossing: Railway pedestrian crossings or entrances may be used for pedestrians or non-motorized vehicles to cross the tracks"
   ]
  },
  {
   "cell_type": "code",
   "execution_count": 11,
   "id": "cd8bfdbc-80c7-4a54-a5f2-804799d027b0",
   "metadata": {},
   "outputs": [
    {
     "name": "stdout",
     "output_type": "stream",
     "text": [
      "junction types: {'mini_roundabout', 'yes', 'Fulham Cross', 'roundabout', 'box', 'crossroads', 'intersection'}\n"
     ]
    }
   ],
   "source": [
    "unique_junction_node = set()\n",
    "for item in junction_node_list:\n",
    "    if isinstance(item, list):  \n",
    "        unique_junction_node.update(item)\n",
    "    elif item is not None:  \n",
    "        unique_junction_node.add(item)\n",
    "\n",
    "print(f\"junction types: {unique_junction_node}\")"
   ]
  },
  {
   "cell_type": "markdown",
   "id": "73a91b3c-d2be-40f7-9965-55446906b8c2",
   "metadata": {},
   "source": [
    "- box: a marked area that prohibits parking at intersections and is used to prevent traffic congestion at intersections\n",
    "- intersection: At ordinary intersections or crossroads, special shapes are generally not emphasized\n",
    "- yes: General marking indicates \"This is an intersection\", but no specific type is specified\n",
    "- roundabout: vehicles usually drive in a counterclockwise direction and there are yielding rules\n",
    "- mini_roundabout: Small roundabout, often used in residential areas, may be a circle drawn on the ground rather than a solid structure\n",
    "- Fulham Cross: a place name\n",
    "- crossroads: "
   ]
  },
  {
   "cell_type": "code",
   "execution_count": 13,
   "id": "83845123-2199-4430-8c15-1fb1a6159df1",
   "metadata": {},
   "outputs": [
    {
     "name": "stdout",
     "output_type": "stream",
     "text": [
      "highway types: {'mini_roundabout', 'turning_circle', 'traffic_signals;crossing', 'elevator', 'turning_loop', 'stop', 'motorway_junction', 'give_way', 'speed_camera', 'street_lamp', 'crossing', 'traffic_signals'}\n"
     ]
    }
   ],
   "source": [
    "unique_highway_node = set()\n",
    "for item in highway_node_list:\n",
    "    if isinstance(item, list):  \n",
    "        unique_highway_node.update(item)\n",
    "    elif item is not None:  \n",
    "        unique_highway_node.add(item)\n",
    "\n",
    "print(f\"highway types: {unique_highway_node}\")"
   ]
  },
  {
   "cell_type": "markdown",
   "id": "1be05d6c-89fc-4917-ada0-2170166501c7",
   "metadata": {},
   "source": [
    "- give_way: a sign indicating that one must yield at an intersection\n",
    "- turning_loop: The rotary ring, a more complex U-turn structure, is commonly found at the end of public transportation or large lanes"
   ]
  },
  {
   "cell_type": "markdown",
   "id": "ecd23146-ace5-4be1-a4d3-0b3734698962",
   "metadata": {},
   "source": [
    "#### Extract attributes from edge"
   ]
  },
  {
   "cell_type": "code",
   "execution_count": 16,
   "id": "ff6519c6",
   "metadata": {},
   "outputs": [
    {
     "name": "stdout",
     "output_type": "stream",
     "text": [
      "Index(['osmid', 'access', 'highway', 'maxspeed', 'name', 'oneway', 'reversed',\n",
      "       'length', 'geometry', 'lanes', 'ref', 'bridge', 'service', 'junction',\n",
      "       'tunnel', 'width', 'est_width', 'area'],\n",
      "      dtype='object')\n"
     ]
    }
   ],
   "source": [
    "# extract all attributes from edge\n",
    "edges = ox.graph_to_gdfs(G, nodes=False, edges=True)\n",
    "print(edges.columns)"
   ]
  },
  {
   "cell_type": "code",
   "execution_count": 17,
   "id": "068919ac",
   "metadata": {},
   "outputs": [],
   "source": [
    "# list for each attribute\n",
    "access_list = []\n",
    "highway_list = []\n",
    "maxspeed_list = []\n",
    "geometry_list = []       \n",
    "lanes_list = []    \n",
    "bridge_list = []     \n",
    "service_list = []      \n",
    "junction_list = []       \n",
    "tunnel_list = []     \n",
    "width_list = []    \n",
    "est_width_list = []        \n",
    "area_list = []   \n",
    "ref_list = []  "
   ]
  },
  {
   "cell_type": "code",
   "execution_count": 18,
   "id": "787edd80",
   "metadata": {},
   "outputs": [],
   "source": [
    "for u, v, data in G.edges(data=True):\n",
    "    access = data.get(\"access\")         \n",
    "    highway = data.get(\"highway\")       \n",
    "    maxspeed = data.get(\"maxspeed\")                 \n",
    "    oneway = data.get(\"oneway\")         \n",
    "    reversed_rd = data.get(\"reversed\")  \n",
    "    geometry = data.get(\"geometry\")             \n",
    "    lanes = data.get(\"lanes\")                 \n",
    "    bridge = data.get(\"bridge\")                \n",
    "    service = data.get(\"service\")               \n",
    "    junction = data.get(\"junction\")             \n",
    "    tunnel = data.get(\"tunnel\")                \n",
    "    width = data.get(\"width\")                \n",
    "    est_width = data.get(\"est_width\")                  \n",
    "    area = data.get(\"area\")             \n",
    "    ref = data.get(\"ref\")               \n",
    "    \n",
    "    access_list.append(access)\n",
    "    highway_list.append(highway)\n",
    "    maxspeed_list.append(maxspeed)\n",
    "    geometry_list.append(geometry)       \n",
    "    lanes_list.append(lanes)    \n",
    "    bridge_list.append(bridge)     \n",
    "    service_list.append(service)      \n",
    "    junction_list.append(junction)       \n",
    "    tunnel_list.append(tunnel)     \n",
    "    width_list.append(width)    \n",
    "    est_width_list.append(est_width)        \n",
    "    area_list.append(area)   \n",
    "    ref_list.append(ref) "
   ]
  },
  {
   "cell_type": "code",
   "execution_count": 19,
   "id": "fc120d4d",
   "metadata": {},
   "outputs": [
    {
     "name": "stdout",
     "output_type": "stream",
     "text": [
      "Access types: {'yes', 'delivery', 'permit', 'destination', 'staff', 'no', 'customers', 'construction', 'residents', 'permissive', 'restricted', 'taxi', 'emergency', 'unknown', 'agricultural', 'designated'}\n"
     ]
    }
   ],
   "source": [
    "unique_access = set()\n",
    "for item in access_list:\n",
    "    if isinstance(item, list):  \n",
    "        unique_access.update(item)\n",
    "    elif item is not None: \n",
    "        unique_access.add(item)\n",
    "\n",
    "print(f\"Access types: {unique_access}\")"
   ]
  },
  {
   "cell_type": "markdown",
   "id": "8fb1b2a3",
   "metadata": {},
   "source": [
    "- staff: Access restricted to staff members only.\n",
    "- delivery: Access allowed for delivery vehicles.\n",
    "- agricultural: Intended for agricultural use, such as farm vehicles.\n",
    "- residents: Access restricted to local residents.\n",
    "- emergency: Only emergency vehicles (e.g., ambulance, fire truck) are allowed.\n",
    "- taxi: Access permitted for taxis.\n",
    "- permissive: Access is allowed by informal or revocable permission, not a legal right.\n",
    "- no: Access is prohibited.\n",
    "- unknown: Access conditions are unknown.\n",
    "- yes: Access is allowed for the general public.\n",
    "- designated: Specifically designated for certain users or vehicles (e.g., bicycles, pedestrians).\n",
    "- destination: Only vehicles with a destination on that road are allowed; through traffic is restricted.\n",
    "- restricted: Access is restricted and may require special permission.\n",
    "- permit: A formal permit is required for access.\n",
    "- construction: Access is limited to construction vehicles or only during construction periods.\n",
    "- customers: Access is allowed for customers of a shop or service facility."
   ]
  },
  {
   "cell_type": "code",
   "execution_count": 21,
   "id": "55568627",
   "metadata": {},
   "outputs": [
    {
     "name": "stdout",
     "output_type": "stream",
     "text": [
      "Highway types: {'trunk_link', 'secondary', 'trunk', 'disused', 'tertiary', 'secondary_link', 'road', 'track', 'primary', 'service', 'primary_link', 'path', 'living_street', 'services', 'cycleway', 'bridleway', 'unclassified', 'pedestrian', 'crossing', 'residential', 'tertiary_link', 'busway'}\n"
     ]
    }
   ],
   "source": [
    "# Road type\n",
    "unique_highway = set()\n",
    "for item in highway_list:\n",
    "    if isinstance(item, list): \n",
    "        unique_highway.update(item)\n",
    "    elif item is not None:  \n",
    "        unique_highway.add(item)\n",
    "\n",
    "print(f\"Highway types: {unique_highway}\")"
   ]
  },
  {
   "cell_type": "markdown",
   "id": "220e7c0c",
   "metadata": {},
   "source": [
    "#### Main Road Types\n",
    "- motorway: Highways for motor vehicles only; high-speed, long-distance roads.\n",
    "- trunk: Major roads connecting cities; slightly lower in rank than motorways.\n",
    "- primary: Primary roads serving as key routes within or between cities or regions.\n",
    "- secondary: Secondary roads linking smaller towns or areas; lower than primary.\n",
    "- tertiary: Tertiary roads that connect local roads to major ones; serve local traffic.\n",
    "- unclassified: Minor local roads that don't fit other categories like residential or service.\n",
    "- living_street: Shared space for vehicles and pedestrians, often with low speed limits; typically in residential zones.\n",
    "\n",
    "#### Link Roads and Service Roads\n",
    "- motorway_link / trunk_link / primary_link / secondary_link / tertiary_link: Ramps or connectors between main and secondary roads.\n",
    "- service: Roads for services such as parking lots, industrial zones, or private access.\n",
    "- services: Similar to service; may be a regional naming variation.\n",
    "\n",
    "#### Non-motorized & Special Use Roads\n",
    "- cycleway: Bicycle-only roads or lanes, often separated from motor traffic.\n",
    "- path: General-purpose paths for pedestrians, cyclists, and sometimes horses; common in rural or park areas.\n",
    "- bridleway: Horseback riding trails; usually closed to motor vehicles.\n",
    "- pedestrian: Pedestrian-only streets, often in commercial areas or parks.\n",
    "- track: Unpaved or dirt roads used for farming or forestry access.\n",
    "- residential: Roads within residential areas, usually with low traffic.\n",
    "\n",
    "#### Other Types\n",
    "- crossing: Crosswalks or pedestrian crossings.\n",
    "- busway: Bus-only lanes or roads restricted to public transport.\n",
    "- disused: Abandoned roads no longer in official use.\n",
    "- Let me know if you'd like this in Markdown table format for documentation or presentation."
   ]
  },
  {
   "cell_type": "code",
   "execution_count": 23,
   "id": "4fa2ba1a",
   "metadata": {},
   "outputs": [
    {
     "name": "stdout",
     "output_type": "stream",
     "text": [
      "{'50 mph', '3 mph', '70 mph', '10 mph', '64', '4 mph', 'walk', '40 mph', '60 mph', '5', '12 mph', '15 mph', '7', '5 mph', '20 mph', '30 mph'}\n"
     ]
    }
   ],
   "source": [
    "unique_maxspeed = set()\n",
    "for item in maxspeed_list:\n",
    "    if isinstance(item, list):  \n",
    "        unique_maxspeed.update(item)\n",
    "    elif item is not None:  \n",
    "        unique_maxspeed.add(item)\n",
    "\n",
    "print(f\"{unique_maxspeed}\")"
   ]
  },
  {
   "cell_type": "code",
   "execution_count": 24,
   "id": "5a9e207f",
   "metadata": {},
   "outputs": [
    {
     "name": "stdout",
     "output_type": "stream",
     "text": [
      "{'0', '20', '4', '2', '1.5', '3', '8', '7', '5', '1', '6'}\n"
     ]
    }
   ],
   "source": [
    "unique_lanes = set()\n",
    "for item in lanes_list:\n",
    "    if isinstance(item, list):\n",
    "        unique_lanes.update(item)\n",
    "    elif item is not None:  \n",
    "        unique_lanes.add(item)\n",
    "        \n",
    "print(unique_lanes)"
   ]
  },
  {
   "cell_type": "code",
   "execution_count": 25,
   "id": "6fd93b48",
   "metadata": {},
   "outputs": [
    {
     "name": "stdout",
     "output_type": "stream",
     "text": [
      "{'yes', 'viaduct', 'pier', 'boardwalk', 'movable'}\n"
     ]
    }
   ],
   "source": [
    "unique_bridge = set()\n",
    "for item in bridge_list:\n",
    "    if isinstance(item, list):\n",
    "        unique_bridge.update(item)\n",
    "    elif item is not None:  \n",
    "        unique_bridge.add(item)\n",
    "        \n",
    "print(unique_bridge)"
   ]
  },
  {
   "cell_type": "markdown",
   "id": "fde41c40",
   "metadata": {},
   "source": [
    "- viaduct: A viaduct, typically a long elevated bridge structure used to span valleys, rivers, or urban obstacles. Usually longer than a standard bridge.\n",
    "- yes: Indicates that the way is a bridge, but without specifying the type.\n",
    "- pier: A pier bridge, often extending into water, used for docking boats or pedestrian access.\n",
    "- boardwalk: A wooden walkway, often elevated, commonly found in wetlands, forests, or coastal areas.\n",
    "- movable: A movable bridge that can open, lift, or rotate to allow ships to pass—e.g., drawbridges or swing bridges."
   ]
  },
  {
   "cell_type": "code",
   "execution_count": 27,
   "id": "6c4ecc69",
   "metadata": {},
   "outputs": [
    {
     "name": "stdout",
     "output_type": "stream",
     "text": [
      "{'delivery', 'drive', 'drive-through', 'alley', 'garages', 'Service_Road', 'bus', 'road', 'bus_station', 'taxi', 'driveway', 'parking', 'ar', 'access', 'alleyway', 'yard', 'slipway', 'emergency', 'psv', 'parking_aisle', 'emergency_access', 'residential', 'layby', 'unknown', 'fuel', 'ramp'}\n"
     ]
    }
   ],
   "source": [
    "unique_service = set()\n",
    "for item in service_list:\n",
    "    if isinstance(item, list):\n",
    "        unique_service.update(item)\n",
    "    elif item is not None:  \n",
    "        unique_service.add(item)\n",
    "        \n",
    "print(unique_service)"
   ]
  },
  {
   "cell_type": "markdown",
   "id": "465b73dc",
   "metadata": {},
   "source": [
    "#### Residential & General Service Roads\n",
    "- residential: Roads within residential areas.\n",
    "- road: A generic road; often used as a placeholder. Not recommended for permanent tagging.\n",
    "\n",
    "#### Traffic-Related Service Roads\n",
    "- driveway: Private driveways, usually connecting homes or buildings to the main road.\n",
    "- drive: Similar to driveway, possibly used regionally.\n",
    "- parking: Roads or lanes within parking areas.\n",
    "- parking_aisle: Lanes inside parking lots for vehicle circulation.\n",
    "- bus_station: Roads or platforms inside a bus station.\n",
    "- bus: May indicate bus-related lanes or internal roads.\n",
    "\n",
    "#### Logistics & Commercial Use\n",
    "- delivery: Roads specifically for goods delivery.\n",
    "- drive-through: Roads that serve drive-through businesses (e.g., fast food, banks).\n",
    "- fuel: Roads within fuel stations.\n",
    "- garages: Internal roads in garages or vehicle repair areas.\n",
    "\n",
    "#### Alleys & Narrow Roads\n",
    "- alley / alleyway: Narrow urban lanes, often behind buildings or used for pedestrian access.\n",
    "- yard: Roads inside industrial yards or warehouse areas.\n",
    "- layby: Lay-bys or emergency pull-off areas on roads.\n",
    "\n",
    "#### Emergency & Special-Purpose Roads\n",
    "- emergency_access / emergency: Roads restricted to emergency services (e.g., ambulance, fire trucks).\n",
    "- ramp: Inclined roads or ramps connecting roads of different elevation.\n",
    "- slipway: Boat ramps used for launching or retrieving vessels.\n",
    "\n",
    "#### Public Transport-Related\n",
    "- taxi: Taxi-only lanes or parking areas.\n",
    "- psv (Public Service Vehicle): Lanes for buses or other public service vehicles.\n",
    "\n",
    "#### Other / Miscellaneous\n",
    "- access: General-purpose roads, possibly with access restrictions.\n",
    "- Service_Road: Broad term for service roads, often adjacent to highways or in industrial zones.\n",
    "- unknown: Road type is not clearly specified."
   ]
  },
  {
   "cell_type": "code",
   "execution_count": 29,
   "id": "4ffc0fb3",
   "metadata": {},
   "outputs": [
    {
     "name": "stdout",
     "output_type": "stream",
     "text": [
      "{'roundabout', 'turning_loop', 'teardrop', 'gyratory', 'circular', 'intersection', 'approach', 'jughandle'}\n"
     ]
    }
   ],
   "source": [
    "unique_junction = set()\n",
    "for item in junction_list:\n",
    "    if isinstance(item, list):\n",
    "        unique_junction.update(item)\n",
    "    elif item is not None:  \n",
    "        unique_junction.add(item)\n",
    "        \n",
    "print(unique_junction)"
   ]
  },
  {
   "cell_type": "markdown",
   "id": "bb486d85",
   "metadata": {},
   "source": [
    "#### Traditional Intersections\n",
    "- intersection: A standard at-grade junction where two or more roads cross each other.\n",
    "- approach: Typically refers to the segment of road leading up to an intersection; exact meaning may depend on context.\n",
    "\n",
    "#### Roundabout-Type Intersections\n",
    "- roundabout: A conventional circular intersection where vehicles travel in one direction around a central island and exit at their chosen point.\n",
    "- circular: Similar to a roundabout but may allow freer or less regulated entry and exit movements.\n",
    "- gyratory: A large, often multi-lane roundabout system, sometimes signal-controlled; more complex than a standard roundabout.\n",
    "\n",
    "#### Special Intersection Types\n",
    "- jughandle: A ramp-style intersection where drivers exit the main road before turning left or making a U-turn—designed to reduce direct left turns.\n",
    "- turning_loop: A loop at the end of a dead-end road or cul-de-sac that allows vehicles to turn around.\n",
    "- teardrop: A teardrop-shaped intersection design, often used in high-traffic areas to provide smoother traffic flow, especially near ramps or interchanges."
   ]
  },
  {
   "cell_type": "code",
   "execution_count": 31,
   "id": "144f5561",
   "metadata": {},
   "outputs": [
    {
     "name": "stdout",
     "output_type": "stream",
     "text": [
      "{'yes', 'covered', 'passage', 'no', 'building_passage'}\n"
     ]
    }
   ],
   "source": [
    "unique_tunnel = set()\n",
    "for item in tunnel_list:\n",
    "    if isinstance(item, list):\n",
    "        unique_tunnel.update(item)\n",
    "    elif item is not None:  \n",
    "        unique_tunnel.add(item)\n",
    "        \n",
    "print(unique_tunnel)"
   ]
  },
  {
   "cell_type": "markdown",
   "id": "7add00fc",
   "metadata": {},
   "source": [
    "#### Basic Tunnel Indicators\n",
    "- yes: Indicates the road is a standard tunnel, typically passing through mountains, underground, or other enclosed spaces.\n",
    "- no: Indicates the road is not a tunnel.\n",
    "\n",
    "#### Special Tunnel or Passage Types\n",
    "- passage: A general passage, often a smaller tunnel for pedestrians or cyclists rather than a full-scale road tunnel.\n",
    "- building_passage: A passage through or under a building, such as walkways or roads that pass beneath urban structures.\n",
    "- covered: A covered road—not a traditional tunnel, but one that is enclosed from above by a building or structure."
   ]
  },
  {
   "cell_type": "code",
   "execution_count": 33,
   "id": "cb5ae6b3",
   "metadata": {},
   "outputs": [
    {
     "name": "stdout",
     "output_type": "stream",
     "text": [
      "{'3.9', '1m', '3.4', '2.0', '6.6', '8.9', '0.7', '12.5', '6.2', '0.9', '0', '6.8', '1.25', '0.7 m', '1.5', '13', '11.1', '3.2', '7', '2.8', '2.17', '8.2', '1.6', '2.2', '5.8', '9', '10.6', '6 m', '0.5', '4.3', '5.7', '5.5', '0.8 m', '10.4', '4.5', '9.5', '11.7', '12.6', '3', '2.4', '7.4', '2.25', '10.5', '7.5', '6.3', '5.2', '5 m', '6.5', '0.3', '5.9', '0.6', '12.4', '15.4', '5', '4.7', '3.3', '4.4', '5.6', '8.6', '5.1', '1 m', '9.9', '8.8', '2.7', '1.5 m', '8.1', '0.3 m', '2.6', '10 m', '2.13', '8.3', '6.1', '8.4', '14', '1.9', '6 ft 6', '14.6', '11', '6.7', '4.6', '2', '18', '7.7', '7.9', '1.2', '12.1', '1.1', '6\\'6\"', '6.9', '3.8', '7.2', '0.8', '4.9', '2.3', '5.4', '1.75', '4 m', '1.4', '10.7', '8.5', '9.1', '1.0', '2.5', '2m', '10', '3.0', '4.8', '8.7', '0.4 m', '0.2', '10.8', '3.6', '0.2 m', '4.1', '15', '3.75', '11.4', '1', '3.1', '2 m', '6.4', '6', '9.3', '7.3', '1.7', '9.4', '7.8', '7.25', '10.2', '9.2', '4', '7.1', '5.3', '2.5 m', '0.5 m', '21', '3.5', '11.9', '2.0 m', '0.3m', '3.7', '9.8', '9.6', '4.2', '3 m', '0.75', '1.3', '1.8', '2.9', '17.2', '7.6', '8', '12', '1.2 m', '2.1'}\n"
     ]
    }
   ],
   "source": [
    "unique_width = set()\n",
    "for item in width_list:\n",
    "    if isinstance(item, list):\n",
    "        unique_width.update(item)\n",
    "    elif item is not None:  \n",
    "        unique_width.add(item)\n",
    "        \n",
    "print(unique_width)"
   ]
  },
  {
   "cell_type": "code",
   "execution_count": 34,
   "id": "b9787196",
   "metadata": {},
   "outputs": [
    {
     "name": "stdout",
     "output_type": "stream",
     "text": [
      "{'20', '2', '5', '1', '6', '1.25', '1.5', '3.5m', '1.75', '4', '5ft', '3.5', '2.5', '4m', '2.5m', '8.5m', '2m', '4.5m', '4.5', 'est_width', '3', '5m'}\n"
     ]
    }
   ],
   "source": [
    "unique_est_width = set()\n",
    "for item in est_width_list:\n",
    "    if isinstance(item, list):\n",
    "        unique_est_width.update(item)\n",
    "    elif item is not None:  \n",
    "        unique_est_width.add(item)\n",
    "        \n",
    "print(unique_est_width)"
   ]
  },
  {
   "cell_type": "code",
   "execution_count": 35,
   "id": "f637a6d3",
   "metadata": {},
   "outputs": [
    {
     "name": "stdout",
     "output_type": "stream",
     "text": [
      "{'no'}\n"
     ]
    }
   ],
   "source": [
    "unique_area = set()\n",
    "for item in area_list:\n",
    "    if isinstance(item, list):\n",
    "        unique_area.update(item)\n",
    "    elif item is not None:  \n",
    "        unique_area.add(item)\n",
    "        \n",
    "print(unique_area)"
   ]
  },
  {
   "cell_type": "code",
   "execution_count": 36,
   "id": "290c0768",
   "metadata": {
    "scrolled": true
   },
   "outputs": [
    {
     "name": "stdout",
     "output_type": "stream",
     "text": [
      "['B515', 'A23', 'A1261', 'FP106', 'A11', 'B137', 'B160', 'S115', 'A127', 'B168', 'B276', 'RN4', 'A109', 'B273', 'B305', 'B234', 'A12', 'A479', 'B310', 'A1003']\n"
     ]
    }
   ],
   "source": [
    "unique_ref = set()\n",
    "for item in ref_list:\n",
    "    if isinstance(item, list):\n",
    "        unique_ref.update(item)\n",
    "    elif item is not None:  \n",
    "        unique_ref.add(item)\n",
    "        \n",
    "print(list(unique_ref)[:20])"
   ]
  },
  {
   "cell_type": "code",
   "execution_count": 37,
   "id": "0623f775",
   "metadata": {},
   "outputs": [
    {
     "name": "stdout",
     "output_type": "stream",
     "text": [
      "[None, None, <LINESTRING (-0.1 51.527, -0.1 51.527, -0.1 51.528, -0.1 51.528)>, None, <LINESTRING (-0.2 51.524, -0.2 51.524, -0.2 51.524)>]\n"
     ]
    }
   ],
   "source": [
    "print(geometry_list[:5])"
   ]
  },
  {
   "cell_type": "markdown",
   "id": "2e9d143b",
   "metadata": {},
   "source": [
    " "
   ]
  },
  {
   "cell_type": "markdown",
   "id": "fa0b99ce-3255-455b-afa0-8db731748ddc",
   "metadata": {},
   "source": [
    "#### XML dataset ouput"
   ]
  },
  {
   "cell_type": "code",
   "execution_count": 40,
   "id": "9e7f0ee2",
   "metadata": {},
   "outputs": [
    {
     "data": {
      "text/html": [
       "<div>\n",
       "<style scoped>\n",
       "    .dataframe tbody tr th:only-of-type {\n",
       "        vertical-align: middle;\n",
       "    }\n",
       "\n",
       "    .dataframe tbody tr th {\n",
       "        vertical-align: top;\n",
       "    }\n",
       "\n",
       "    .dataframe thead th {\n",
       "        text-align: right;\n",
       "    }\n",
       "</style>\n",
       "<table border=\"1\" class=\"dataframe\">\n",
       "  <thead>\n",
       "    <tr style=\"text-align: right;\">\n",
       "      <th></th>\n",
       "      <th>ID</th>\n",
       "      <th>Station</th>\n",
       "      <th>Latitude</th>\n",
       "      <th>Longitude</th>\n",
       "      <th>Installed</th>\n",
       "      <th>locked</th>\n",
       "      <th>Temporary Station</th>\n",
       "      <th>Available Bikes</th>\n",
       "      <th>Standard Bikes</th>\n",
       "      <th>E-Bikes</th>\n",
       "      <th>Empty Docks</th>\n",
       "      <th>Total Docks</th>\n",
       "    </tr>\n",
       "  </thead>\n",
       "  <tbody>\n",
       "    <tr>\n",
       "      <th>0</th>\n",
       "      <td>1</td>\n",
       "      <td>River Street , Clerkenwell</td>\n",
       "      <td>51.52916347</td>\n",
       "      <td>-0.109970527</td>\n",
       "      <td>true</td>\n",
       "      <td>false</td>\n",
       "      <td>false</td>\n",
       "      <td>5</td>\n",
       "      <td>4</td>\n",
       "      <td>1</td>\n",
       "      <td>12</td>\n",
       "      <td>19</td>\n",
       "    </tr>\n",
       "    <tr>\n",
       "      <th>1</th>\n",
       "      <td>2</td>\n",
       "      <td>Phillimore Gardens, Kensington</td>\n",
       "      <td>51.49960695</td>\n",
       "      <td>-0.197574246</td>\n",
       "      <td>true</td>\n",
       "      <td>false</td>\n",
       "      <td>false</td>\n",
       "      <td>9</td>\n",
       "      <td>7</td>\n",
       "      <td>2</td>\n",
       "      <td>27</td>\n",
       "      <td>37</td>\n",
       "    </tr>\n",
       "    <tr>\n",
       "      <th>2</th>\n",
       "      <td>3</td>\n",
       "      <td>Christopher Street, Liverpool Street</td>\n",
       "      <td>51.52128377</td>\n",
       "      <td>-0.084605692</td>\n",
       "      <td>true</td>\n",
       "      <td>false</td>\n",
       "      <td>false</td>\n",
       "      <td>0</td>\n",
       "      <td>0</td>\n",
       "      <td>0</td>\n",
       "      <td>31</td>\n",
       "      <td>32</td>\n",
       "    </tr>\n",
       "    <tr>\n",
       "      <th>3</th>\n",
       "      <td>4</td>\n",
       "      <td>St. Chad's Street, King's Cross</td>\n",
       "      <td>51.53005939</td>\n",
       "      <td>-0.120973687</td>\n",
       "      <td>true</td>\n",
       "      <td>false</td>\n",
       "      <td>false</td>\n",
       "      <td>22</td>\n",
       "      <td>18</td>\n",
       "      <td>4</td>\n",
       "      <td>1</td>\n",
       "      <td>23</td>\n",
       "    </tr>\n",
       "    <tr>\n",
       "      <th>4</th>\n",
       "      <td>5</td>\n",
       "      <td>Sedding Street, Sloane Square</td>\n",
       "      <td>51.49313</td>\n",
       "      <td>-0.156876</td>\n",
       "      <td>true</td>\n",
       "      <td>false</td>\n",
       "      <td>false</td>\n",
       "      <td>15</td>\n",
       "      <td>15</td>\n",
       "      <td>0</td>\n",
       "      <td>8</td>\n",
       "      <td>27</td>\n",
       "    </tr>\n",
       "  </tbody>\n",
       "</table>\n",
       "</div>"
      ],
      "text/plain": [
       "  ID                               Station     Latitude     Longitude  \\\n",
       "0  1            River Street , Clerkenwell  51.52916347  -0.109970527   \n",
       "1  2        Phillimore Gardens, Kensington  51.49960695  -0.197574246   \n",
       "2  3  Christopher Street, Liverpool Street  51.52128377  -0.084605692   \n",
       "3  4       St. Chad's Street, King's Cross  51.53005939  -0.120973687   \n",
       "4  5         Sedding Street, Sloane Square     51.49313     -0.156876   \n",
       "\n",
       "  Installed locked Temporary Station Available Bikes Standard Bikes E-Bikes  \\\n",
       "0      true  false             false               5              4       1   \n",
       "1      true  false             false               9              7       2   \n",
       "2      true  false             false               0              0       0   \n",
       "3      true  false             false              22             18       4   \n",
       "4      true  false             false              15             15       0   \n",
       "\n",
       "  Empty Docks Total Docks  \n",
       "0          12          19  \n",
       "1          27          37  \n",
       "2          31          32  \n",
       "3           1          23  \n",
       "4           8          27  "
      ]
     },
     "execution_count": 40,
     "metadata": {},
     "output_type": "execute_result"
    }
   ],
   "source": [
    "# Requesting an API for XML data\n",
    "url = \"https://tfl.gov.uk/tfl/syndication/feeds/cycle-hire/livecyclehireupdates.xml\"\n",
    "response = requests.get(url)\n",
    "\n",
    "# parse XML\n",
    "root = ET.fromstring(response.content)\n",
    "\n",
    "data = []\n",
    "# Read information about shared bike stations\n",
    "for station in root.findall('station'):\n",
    "    station_id = station.find('id').text\n",
    "    station_name = station.find('name').text\n",
    "    lat = station.find('lat').text\n",
    "    lng = station.find('long').text\n",
    "    installed = station.find('installed').text\n",
    "    locked = station.find('locked').text\n",
    "    tempStation = station.find('temporary').text\n",
    "    bikes_available = station.find('nbBikes').text\n",
    "    standardBikes = station.find('nbStandardBikes').text\n",
    "    eBikes = station.find('nbEBikes').text\n",
    "    docks_available = station.find('nbEmptyDocks').text\n",
    "    total_docks = station.find('nbDocks').text\n",
    "\n",
    "    data.append([station_id, station_name, lat, lng, installed, locked, tempStation, bikes_available, standardBikes, eBikes, docks_available, total_docks])\n",
    "\n",
    "\n",
    "df = pd.DataFrame(data, columns=[\"ID\", \"Station\", \"Latitude\", \"Longitude\", \"Installed\", \"locked\", \"Temporary Station\", \"Available Bikes\", \"Standard Bikes\", \"E-Bikes\", \"Empty Docks\", \"Total Docks\"])\n",
    "df.head()"
   ]
  },
  {
   "cell_type": "code",
   "execution_count": null,
   "id": "f2e0456a",
   "metadata": {},
   "outputs": [],
   "source": []
  },
  {
   "cell_type": "code",
   "execution_count": null,
   "id": "34d5f24c",
   "metadata": {},
   "outputs": [],
   "source": []
  }
 ],
 "metadata": {
  "kernelspec": {
   "display_name": "Python (ox)",
   "language": "python",
   "name": "ox"
  },
  "language_info": {
   "codemirror_mode": {
    "name": "ipython",
    "version": 3
   },
   "file_extension": ".py",
   "mimetype": "text/x-python",
   "name": "python",
   "nbconvert_exporter": "python",
   "pygments_lexer": "ipython3",
   "version": "3.12.9"
  }
 },
 "nbformat": 4,
 "nbformat_minor": 5
}
