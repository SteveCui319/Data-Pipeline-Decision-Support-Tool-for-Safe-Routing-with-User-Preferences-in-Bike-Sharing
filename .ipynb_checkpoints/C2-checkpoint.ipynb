{
 "cells": [
  {
   "cell_type": "code",
   "execution_count": 1,
   "id": "885e0e00-523d-4d12-8cce-1f981433efad",
   "metadata": {},
   "outputs": [],
   "source": [
    "import xml.etree.ElementTree as ET\n",
    "import pandas as pd\n",
    "from tqdm import tqdm\n",
    "import numpy as np\n",
    "import osmnx as ox\n",
    "import networkx as nx\n",
    "import matplotlib.pyplot as plt"
   ]
  },
  {
   "cell_type": "code",
   "execution_count": 3,
   "id": "ba16648f-03f3-4e4d-bcd1-16b6e82ff000",
   "metadata": {},
   "outputs": [],
   "source": [
    "# place = \"London, UK\"\n",
    "# G = ox.graph_from_place(place, network_type='bike')\n",
    "# ox.save_graphml(G, filepath='london_bike_network.graphml')"
   ]
  },
  {
   "cell_type": "code",
   "execution_count": 2,
   "id": "1e38a4fd-91a5-43a1-9b45-fbe6effb4fda",
   "metadata": {},
   "outputs": [],
   "source": [
    "file_path = 'london_bike_network.graphml'\n",
    "G = nx.read_graphml(file_path)"
   ]
  },
  {
   "cell_type": "code",
   "execution_count": 3,
   "id": "7e352031-681c-45f4-96c0-f7310b54225f",
   "metadata": {},
   "outputs": [],
   "source": [
    "node_types = {\n",
    "    \"street_count\": int,\n",
    "    \"x\": float,\n",
    "    \"y\": float\n",
    "}\n",
    "\n",
    "edge_types = {\n",
    "    'osmid': str, \n",
    "    'access': str, \n",
    "    'highway': str, \n",
    "    'maxspeed': str, \n",
    "    'name': str, \n",
    "    'oneway': str, \n",
    "    'reversed': str, \n",
    "    'length': float\n",
    "}\n",
    "\n",
    "for attr_name, dtype in node_types.items():\n",
    "    attrs = nx.get_node_attributes(G, attr_name)\n",
    "    attrs_converted = {node: dtype(value) for node, value in attrs.items()}\n",
    "    nx.set_node_attributes(G, attrs_converted, name=attr_name)\n",
    "\n",
    "for attr_name, dtype in edge_types.items():\n",
    "    attrs = nx.get_edge_attributes(G, attr_name)\n",
    "    attrs_converted = {edge: dtype(value) for edge, value in attrs.items()}\n",
    "    nx.set_edge_attributes(G, attrs_converted, name=attr_name)\n",
    "    \n",
    "G = nx.relabel_nodes(G, {node[0] : int(node[0]) for node in G.nodes(data=True)})"
   ]
  },
  {
   "cell_type": "code",
   "execution_count": 4,
   "id": "b7c18f4d-5770-4424-a1f7-fbdbcc4b5cfa",
   "metadata": {},
   "outputs": [
    {
     "name": "stdout",
     "output_type": "stream",
     "text": [
      "MultiDiGraph with 327202 nodes and 746913 edges\n",
      "Node Id: 78112, Attributes: {'y': 51.526976, 'x': -0.1457924, 'street_count': 3}\n",
      "From: 78112, To: 25508583 Attributes: {'osmid': '129375498', 'access': 'permissive', 'highway': 'unclassified', 'maxspeed': '20 mph', 'name': 'Outer Circle', 'oneway': 'False', 'reversed': 'False', 'length': 19.391301196455856}\n"
     ]
    }
   ],
   "source": [
    "print(G)\n",
    "\n",
    "for node in G.nodes(data=True):\n",
    "    print(f\"Node Id: {node[0]}, Attributes: {node[1]}\")\n",
    "    break\n",
    "\n",
    "for edge in G.edges(data=True):\n",
    "    print(f\"From: {edge[0]}, To: {edge[1]} Attributes: {edge[2]}\")\n",
    "    break"
   ]
  },
  {
   "cell_type": "code",
   "execution_count": 5,
   "id": "854196d4-d6c5-4b34-b44b-24127b937459",
   "metadata": {},
   "outputs": [],
   "source": [
    "G = nx.relabel_nodes(G, {node[0] : int(node[0]) for node in G.nodes(data=True)})"
   ]
  },
  {
   "cell_type": "code",
   "execution_count": 6,
   "id": "0bab46f6-63af-4c52-a07b-1c0c69264a83",
   "metadata": {},
   "outputs": [
    {
     "name": "stderr",
     "output_type": "stream",
     "text": [
      "100%|████████████████████████████████████████████████████████████████████████████| 327202/327202 [00:00<00:00, 711896.79it/s]\n"
     ]
    }
   ],
   "source": [
    "bike_road_nodes_data = []\n",
    "for node in tqdm(G.nodes(data=True)):\n",
    "    bike_road_nodes_data.append([node[0], node[1]['x'], node[1]['y'], node[1]['street_count']])\n",
    "bike_road_nodes_df = pd.DataFrame(data=bike_road_nodes_data, columns=[\"id\", \"x\", \"y\", \"street_count\"])"
   ]
  },
  {
   "cell_type": "code",
   "execution_count": 7,
   "id": "260e5144-c684-4b9c-ada6-7619db8b8a77",
   "metadata": {},
   "outputs": [
    {
     "name": "stderr",
     "output_type": "stream",
     "text": [
      "100%|███████████████████████████████████████████████████████████████████████████████████| 795/795 [00:00<00:00, 94991.07it/s]\n"
     ]
    }
   ],
   "source": [
    "with open(\"livecyclehireupdates.xml\", \"r\") as f:\n",
    "    xml_data = f.read()\n",
    "\n",
    "root = ET.fromstring(xml_data)\n",
    "\n",
    "station_list = []\n",
    "\n",
    "for station in tqdm(root.findall('station')):\n",
    "    station_data = {}\n",
    "    for child in station:\n",
    "        tag = child.tag\n",
    "        value = child.text\n",
    "        try:\n",
    "            if tag in ['name', 'terminalName']:\n",
    "                value = str(value)\n",
    "            elif tag in ['id', 'nbBikes', 'nbStandardBikes', 'nbEBikes', 'nbEmptyDocks', 'nbDocks']:\n",
    "                value = int(value)\n",
    "            elif tag in ['lat', 'long']:\n",
    "                value = float(value)\n",
    "            elif tag in ['installed', 'locked', 'temporary']:\n",
    "                value = True if value.lower() == \"true\" else False\n",
    "            else:\n",
    "                continue\n",
    "            station_data[tag] = value\n",
    "        except:\n",
    "            print(tag, value)\n",
    "        \n",
    "    station_list.append(station_data)\n",
    "station_df = pd.DataFrame(data=station_list)"
   ]
  },
  {
   "cell_type": "code",
   "execution_count": 8,
   "id": "50b027b3-e979-4099-ae85-adce6c519078",
   "metadata": {},
   "outputs": [
    {
     "data": {
      "text/html": [
       "<div>\n",
       "<style scoped>\n",
       "    .dataframe tbody tr th:only-of-type {\n",
       "        vertical-align: middle;\n",
       "    }\n",
       "\n",
       "    .dataframe tbody tr th {\n",
       "        vertical-align: top;\n",
       "    }\n",
       "\n",
       "    .dataframe thead th {\n",
       "        text-align: right;\n",
       "    }\n",
       "</style>\n",
       "<table border=\"1\" class=\"dataframe\">\n",
       "  <thead>\n",
       "    <tr style=\"text-align: right;\">\n",
       "      <th></th>\n",
       "      <th>id</th>\n",
       "      <th>name</th>\n",
       "      <th>terminalName</th>\n",
       "      <th>lat</th>\n",
       "      <th>long</th>\n",
       "      <th>installed</th>\n",
       "      <th>locked</th>\n",
       "      <th>temporary</th>\n",
       "      <th>nbBikes</th>\n",
       "      <th>nbStandardBikes</th>\n",
       "      <th>nbEBikes</th>\n",
       "      <th>nbEmptyDocks</th>\n",
       "      <th>nbDocks</th>\n",
       "    </tr>\n",
       "  </thead>\n",
       "  <tbody>\n",
       "    <tr>\n",
       "      <th>0</th>\n",
       "      <td>1</td>\n",
       "      <td>River Street , Clerkenwell</td>\n",
       "      <td>001023</td>\n",
       "      <td>51.529163</td>\n",
       "      <td>-0.109971</td>\n",
       "      <td>True</td>\n",
       "      <td>False</td>\n",
       "      <td>False</td>\n",
       "      <td>6</td>\n",
       "      <td>5</td>\n",
       "      <td>1</td>\n",
       "      <td>12</td>\n",
       "      <td>19</td>\n",
       "    </tr>\n",
       "    <tr>\n",
       "      <th>1</th>\n",
       "      <td>2</td>\n",
       "      <td>Phillimore Gardens, Kensington</td>\n",
       "      <td>001018</td>\n",
       "      <td>51.499607</td>\n",
       "      <td>-0.197574</td>\n",
       "      <td>True</td>\n",
       "      <td>False</td>\n",
       "      <td>False</td>\n",
       "      <td>5</td>\n",
       "      <td>5</td>\n",
       "      <td>0</td>\n",
       "      <td>31</td>\n",
       "      <td>37</td>\n",
       "    </tr>\n",
       "    <tr>\n",
       "      <th>2</th>\n",
       "      <td>3</td>\n",
       "      <td>Christopher Street, Liverpool Street</td>\n",
       "      <td>001012</td>\n",
       "      <td>51.521284</td>\n",
       "      <td>-0.084606</td>\n",
       "      <td>True</td>\n",
       "      <td>False</td>\n",
       "      <td>False</td>\n",
       "      <td>0</td>\n",
       "      <td>0</td>\n",
       "      <td>0</td>\n",
       "      <td>32</td>\n",
       "      <td>32</td>\n",
       "    </tr>\n",
       "    <tr>\n",
       "      <th>3</th>\n",
       "      <td>4</td>\n",
       "      <td>St. Chad's Street, King's Cross</td>\n",
       "      <td>001013</td>\n",
       "      <td>51.530059</td>\n",
       "      <td>-0.120974</td>\n",
       "      <td>True</td>\n",
       "      <td>False</td>\n",
       "      <td>False</td>\n",
       "      <td>21</td>\n",
       "      <td>18</td>\n",
       "      <td>3</td>\n",
       "      <td>1</td>\n",
       "      <td>23</td>\n",
       "    </tr>\n",
       "    <tr>\n",
       "      <th>4</th>\n",
       "      <td>5</td>\n",
       "      <td>Sedding Street, Sloane Square</td>\n",
       "      <td>003420</td>\n",
       "      <td>51.493130</td>\n",
       "      <td>-0.156876</td>\n",
       "      <td>True</td>\n",
       "      <td>False</td>\n",
       "      <td>False</td>\n",
       "      <td>0</td>\n",
       "      <td>0</td>\n",
       "      <td>0</td>\n",
       "      <td>23</td>\n",
       "      <td>27</td>\n",
       "    </tr>\n",
       "  </tbody>\n",
       "</table>\n",
       "</div>"
      ],
      "text/plain": [
       "   id                                  name terminalName        lat      long  \\\n",
       "0   1            River Street , Clerkenwell       001023  51.529163 -0.109971   \n",
       "1   2        Phillimore Gardens, Kensington       001018  51.499607 -0.197574   \n",
       "2   3  Christopher Street, Liverpool Street       001012  51.521284 -0.084606   \n",
       "3   4       St. Chad's Street, King's Cross       001013  51.530059 -0.120974   \n",
       "4   5         Sedding Street, Sloane Square       003420  51.493130 -0.156876   \n",
       "\n",
       "   installed  locked  temporary  nbBikes  nbStandardBikes  nbEBikes  \\\n",
       "0       True   False      False        6                5         1   \n",
       "1       True   False      False        5                5         0   \n",
       "2       True   False      False        0                0         0   \n",
       "3       True   False      False       21               18         3   \n",
       "4       True   False      False        0                0         0   \n",
       "\n",
       "   nbEmptyDocks  nbDocks  \n",
       "0            12       19  \n",
       "1            31       37  \n",
       "2            32       32  \n",
       "3             1       23  \n",
       "4            23       27  "
      ]
     },
     "execution_count": 8,
     "metadata": {},
     "output_type": "execute_result"
    }
   ],
   "source": [
    "station_df.head()"
   ]
  },
  {
   "cell_type": "code",
   "execution_count": 9,
   "id": "14149bf3-93a5-4889-a5f9-b822f2fe10d1",
   "metadata": {},
   "outputs": [],
   "source": [
    "def get_station_coord(station_name, station_df):\n",
    "    station = station_df[station_df.name == station_name]\n",
    "    if len(station) != 1:\n",
    "        return None, None\n",
    "    lat, lon = station.lat.values[0], station.long.values[0]\n",
    "    return lat, lon\n",
    "\n",
    "def get_k_nearest_road_nodes(lat, lon, bike_road_nodes_df, k=3, line_k=20):\n",
    "    topK = bike_road_nodes_df.iloc[np.argsort((bike_road_nodes_df.x - lon)**2 + (bike_road_nodes_df.y - lat)**2)[:line_k]].copy()\n",
    "    topK[\"distance\"] = [ox.distance.great_circle(lat, lon, topK.iloc[i].y, topK.iloc[i].x) for i in range(len(topK))]\n",
    "    topK = topK.sort_values(by=\"distance\").iloc[:k]\n",
    "    return topK.values.tolist()\n",
    "\n",
    "def process_route(G, route):\n",
    "    return pd.DataFrame([G.get_edge_data(route[idx], route[idx+1])[0] for idx in range(len(route) - 1)])\n",
    "\n",
    "def get_shortest_route(G, start_node_id, dest_node_id):\n",
    "    route = ox.routing.shortest_path(G, int(start_node_id), int(dest_node_id), weight='length', cpus=1)\n",
    "    route = process_route(G, route)\n",
    "    return route\n",
    "\n",
    "def get_all_shortest_route(start_station_name, dest_station_name, station_df, G, k=3, line_k=20):\n",
    "    start_lat, start_lon  = get_station_coord(start_station_name, station_df)\n",
    "    dest_lat, dest_lon = get_station_coord(dest_station_name, station_df)\n",
    "    print(start_station_name, start_lat, start_lon)\n",
    "    print(dest_station_name, dest_lat, dest_lon)\n",
    "    \n",
    "    start_road_nodes = get_k_nearest_road_nodes(start_lat, start_lon, bike_road_nodes_df, k=k, line_k=line_k)\n",
    "    dest_road_nodes = get_k_nearest_road_nodes(dest_lat, dest_lon, bike_road_nodes_df, k=k, line_k=line_k)\n",
    "\n",
    "    routes_summary = []\n",
    "    routes_detail = {}\n",
    "    for start_node in start_road_nodes:\n",
    "        for dest_node in dest_road_nodes:\n",
    "            route_id = f\"{int(start_node[0])}-{int(dest_node[0])}\"\n",
    "            route = get_shortest_route(G, start_node[0], dest_node[0])\n",
    "            routes_detail[route_id] = route\n",
    "            routes_summary.append([int(start_node[0]), int(dest_node[0]), \n",
    "                                   start_node[-1], dest_node[-1], route.length.sum(),\n",
    "                                   start_node[-1] + dest_node[-1] + route.length.sum()])\n",
    "\n",
    "    return pd.DataFrame(data=routes_summary, columns=[\"start_node\", \"dest_node\", \n",
    "                                                      \"dist_start\", \"dist_dest\", \n",
    "                                                      \"route_length\", \"total_length\"]), routes_detail"
   ]
  },
  {
   "cell_type": "code",
   "execution_count": 10,
   "id": "1bde02ad-2983-44e7-a55f-80cc9e7c242c",
   "metadata": {},
   "outputs": [
    {
     "name": "stdout",
     "output_type": "stream",
     "text": [
      "River Street , Clerkenwell 51.52916347 -0.109970527\n",
      "Phillimore Gardens, Kensington 51.49960695 -0.197574246\n"
     ]
    }
   ],
   "source": [
    "start_station_name = \"River Street , Clerkenwell\"\n",
    "dest_station_name = \"Phillimore Gardens, Kensington\"\n",
    "routes_summary, routes_detail = get_all_shortest_route(start_station_name, dest_station_name, station_df, G, k=5)"
   ]
  },
  {
   "cell_type": "code",
   "execution_count": 38,
   "id": "41d185a3-f066-4f82-955c-c0bf7acd9f1c",
   "metadata": {},
   "outputs": [],
   "source": [
    "def get_average_by_length(col, df):\n",
    "    return (df[col] * df.length / df.length.sum()).sum()"
   ]
  },
  {
   "cell_type": "code",
   "execution_count": 43,
   "id": "ebfc87ba-7790-466a-bc77-21233b1912da",
   "metadata": {},
   "outputs": [],
   "source": [
    "highway_dict = {\n",
    "    'residential': 2,\n",
    "    'trunk_link': 5,\n",
    "    'pedestrian': 1,\n",
    "    'services': 1,\n",
    "    'tertiary': 3,\n",
    "    'tertiary_link': 3,\n",
    "    'crossing': 2,\n",
    "    'primary': 4,\n",
    "    'disused': 4,\n",
    "    'track': 3,\n",
    "    'road': 3,\n",
    "    'unclassified': 3,\n",
    "    'busway': 2,\n",
    "    'secondary': 4,\n",
    "    'secondary_link': 5,\n",
    "    'cycleway': 1,\n",
    "    'service': 1,\n",
    "    'primary_link': 5,\n",
    "    'path': 1,\n",
    "    'trunk': 5,\n",
    "    'bridleway': 1,\n",
    "    'living_street': 1,\n",
    "    np.nan: 3\n",
    "}"
   ]
  },
  {
   "cell_type": "code",
   "execution_count": 54,
   "id": "4a50c8e8-85c4-4448-883a-02fe03bf01d0",
   "metadata": {},
   "outputs": [
    {
     "data": {
      "text/plain": [
       "start_node      2.545521e+07\n",
       "dest_node       1.044020e+05\n",
       "dist_start      2.557845e+01\n",
       "dist_dest       1.786893e+01\n",
       "route_length    8.098445e+03\n",
       "total_length    8.141892e+03\n",
       "Name: 0, dtype: float64"
      ]
     },
     "execution_count": 54,
     "metadata": {},
     "output_type": "execute_result"
    }
   ],
   "source": [
    "routes_summary.iloc[0]"
   ]
  },
  {
   "cell_type": "code",
   "execution_count": 85,
   "id": "8d535b8b-4f18-422a-896a-89a3e87d5323",
   "metadata": {},
   "outputs": [],
   "source": [
    "routes_summary2 = routes_summary.copy()\n",
    "max_speed_scores = []\n",
    "highway_scores = []\n",
    "for i in range(len(routes_summary)):\n",
    "    route_id = f\"{int(routes_summary.iloc[i].start_node)}-{int(routes_summary.iloc[i].dest_node)}\"\n",
    "    rd_ = routes_detail[route_id].copy()\n",
    "    rd_[\"maxspeed\"] = rd_[\"maxspeed\"].apply(lambda x: int(x.split(\" \")[0]) if type(x) != float else 0)\n",
    "    max_speed_scores.append(get_average_by_length(\"maxspeed\", rd_))\n",
    "    rd_[\"highway\"] = rd_[\"highway\"].apply(lambda x: highway_dict[x] if \"[\" not in x else max([highway_dict[hw] for hw in x[2:-2].split(\"', '\")]))\n",
    "    highway_scores.append(get_average_by_length(\"highway\", rd_))\n",
    "routes_summary2[\"max_speed_score\"] = max_speed_scores\n",
    "routes_summary2[\"highway_score\"] = highway_scores\n",
    "routes_summary2[\"score\"] = routes_summary2[\"max_speed_score\"] / 20 + routes_summary2[\"highway_score\"] / 5\n",
    "routes_summary2[\"length_rank\"] = np.argsort(routes_summary2.route_length.values)\n",
    "routes_summary2[\"max_speed_score_rank\"] = np.argsort(routes_summary2.max_speed_score.values)\n",
    "routes_summary2[\"highway_score_rank\"] = np.argsort(routes_summary2.highway_score.values)"
   ]
  },
  {
   "cell_type": "code",
   "execution_count": 75,
   "id": "685ea3a6-136d-44e6-9b35-53ee27249e54",
   "metadata": {},
   "outputs": [],
   "source": [
    "import matplotlib.pyplot as plt"
   ]
  },
  {
   "cell_type": "code",
   "execution_count": 84,
   "id": "b4741718-7a8b-4531-8632-03b7e15d20e6",
   "metadata": {},
   "outputs": [
    {
     "data": {
      "text/plain": [
       "<matplotlib.collections.PathCollection at 0x1b357c7d0>"
      ]
     },
     "execution_count": 84,
     "metadata": {},
     "output_type": "execute_result"
    },
    {
     "data": {
      "image/png": "[encoded data removed]",
      "text/plain": [
       "<Figure size 640x480 with 1 Axes>"
      ]
     },
     "metadata": {},
     "output_type": "display_data"
    }
   ],
   "source": [
    "plt.scatter(routes_summary2.length_rank, routes_summary2.max_speed_score_rank)"
   ]
  },
  {
   "cell_type": "code",
   "execution_count": 89,
   "id": "7769301e-db09-4943-b57e-ae020aa31016",
   "metadata": {},
   "outputs": [
    {
     "data": {
      "text/plain": [
       "<matplotlib.collections.PathCollection at 0x1b7f94050>"
      ]
     },
     "execution_count": 89,
     "metadata": {},
     "output_type": "execute_result"
    },
    {
     "data": {
      "image/png": "[encoded data removed]",
      "text/plain": [
       "<Figure size 640x480 with 1 Axes>"
      ]
     },
     "metadata": {},
     "output_type": "display_data"
    }
   ],
   "source": [
    "plt.scatter(routes_summary2.route_length, routes_summary2.highway_score)"
   ]
  },
  {
   "cell_type": "code",
   "execution_count": 91,
   "id": "97e4b8ab-80c1-4d86-aa61-eb1a3328f15e",
   "metadata": {},
   "outputs": [
    {
     "name": "stdout",
     "output_type": "stream",
     "text": [
      "Limburg Road, Clapham Junction 51.4619231 -0.165297900000013\n",
      "Phillimore Gardens, Kensington 51.49960695 -0.197574246\n"
     ]
    }
   ],
   "source": [
    "start_station_name = \"Limburg Road, Clapham Junction\"\n",
    "dest_station_name = \"Phillimore Gardens, Kensington\"\n",
    "routes_summary, routes_detail = get_all_shortest_route(start_station_name, dest_station_name, station_df, G, k=5)"
   ]
  },
  {
   "cell_type": "code",
   "execution_count": 94,
   "id": "22066606-9768-42ae-90c8-feaffc878c34",
   "metadata": {},
   "outputs": [],
   "source": [
    "routes_summary2 = routes_summary.copy()\n",
    "max_speed_scores = []\n",
    "highway_scores = []\n",
    "for i in range(len(routes_summary)):\n",
    "    route_id = f\"{int(routes_summary.iloc[i].start_node)}-{int(routes_summary.iloc[i].dest_node)}\"\n",
    "    rd_ = routes_detail[route_id].copy()\n",
    "    rd_[\"maxspeed\"] = rd_[\"maxspeed\"].apply(lambda x: int(x.split(\" \")[0].replace(\"['\", \"\")) if type(x) != float else 0)\n",
    "    max_speed_scores.append(get_average_by_length(\"maxspeed\", rd_))\n",
    "    rd_[\"highway\"] = rd_[\"highway\"].apply(lambda x: highway_dict[x] if \"[\" not in x else max([highway_dict[hw] for hw in x[2:-2].split(\"', '\")]))\n",
    "    highway_scores.append(get_average_by_length(\"highway\", rd_))\n",
    "routes_summary2[\"max_speed_score\"] = max_speed_scores\n",
    "routes_summary2[\"highway_score\"] = highway_scores\n",
    "routes_summary2[\"score\"] = routes_summary2[\"max_speed_score\"] / 20 + routes_summary2[\"highway_score\"] / 5\n",
    "routes_summary2[\"length_rank\"] = np.argsort(routes_summary2.route_length.values)\n",
    "routes_summary2[\"max_speed_score_rank\"] = np.argsort(routes_summary2.max_speed_score.values)\n",
    "routes_summary2[\"highway_score_rank\"] = np.argsort(routes_summary2.highway_score.values)"
   ]
  },
  {
   "cell_type": "code",
   "execution_count": 107,
   "id": "fdb99ece-b0ce-4b07-89d5-e563eeba9e89",
   "metadata": {},
   "outputs": [],
   "source": [
    "for i in range(len(routes_summary)):\n",
    "    route_id_i = f\"{int(routes_summary.iloc[i].start_node)}-{int(routes_summary.iloc[i].dest_node)}\"\n",
    "    for j in range(i+1, len(routes_summary)):\n",
    "        route_id_j = f\"{int(routes_summary.iloc[j].start_node)}-{int(routes_summary.iloc[j].dest_node)}\"\n",
    "        \n",
    "\n",
    "        break\n",
    "    break"
   ]
  },
  {
   "cell_type": "code",
   "execution_count": 108,
   "id": "655d70ce-52d5-4135-9bc5-641cb1664541",
   "metadata": {},
   "outputs": [
    {
     "data": {
      "text/plain": [
       "array(['4240405', '4240405', '4240405', '369163268', '182978597',\n",
       "       '182978597', '182978597', '[958723420, 182978597]', '4329571',\n",
       "       '182211049', '182211049', '182211049', '228156831',\n",
       "       '[371182415, 1188894257, 1188894258, 228156830, 228156831]',\n",
       "       '371182415', '371182421', '1069626664', '1069626664',\n",
       "       '[1069626664, 183797228]', '183797228',\n",
       "       '[1298104241, 183797228, 1136880582, 1069626665]',\n",
       "       '[1069626668, 217978301]', '58825613', '58825613', '58825613',\n",
       "       '43583119', '43583119', '307480732', '307480732', '307480732',\n",
       "       '[307480731, 307480732]', '224244587', '621628355',\n",
       "       '[648222762, 950213149, 950213150]', '950213151',\n",
       "       '[298374031, 950213151]', '[950213152, 1356938591, 298374031]',\n",
       "       '[950213152, 389768723]', '389768723', '[950213153, 389768723]',\n",
       "       '[950213154, 785078766]',\n",
       "       '[501243984, 1069626673, 43585211, 1137080964]', '113796151',\n",
       "       '[23017709, 950213158]',\n",
       "       '[560379688, 1356946121, 950213156, 23017709]',\n",
       "       '[560379688, 844349134, 23017704]', '4488700', '4488700',\n",
       "       '4488700', '4488700', '4488700', '4488700', '32781814', '32781814',\n",
       "       '32781814', '824246154', '[1070587138, 1070587139]', '871795146',\n",
       "       '871795146', '871795146', '4422803', '876100050',\n",
       "       '[871795147, 876100052]', '4422918', '4422918', '841551952',\n",
       "       '838299486', '10781278', '63971856', '63971856', '63971856',\n",
       "       '4448855', '[1314656067, 1113078719]', '821523180', '821523180',\n",
       "       '[821523180, 821523181]', '10235014', '[650975472, 663502521]',\n",
       "       '663502521', '663502521', '663502521', '663502521', '32954704',\n",
       "       '32954704', '32954704', '815696210', '8392394', '8392394',\n",
       "       '8392394', '8392394', '83606936', '795483123'], dtype=object)"
      ]
     },
     "execution_count": 108,
     "metadata": {},
     "output_type": "execute_result"
    }
   ],
   "source": [
    "routes_detail[route_id_i].osmid.values"
   ]
  },
  {
   "cell_type": "code",
   "execution_count": 109,
   "id": "e525394e-55a2-4e4b-abef-1f9403aa334f",
   "metadata": {},
   "outputs": [
    {
     "data": {
      "text/plain": [
       "array(['4240405', '4240405', '4240405', '369163268', '182978597',\n",
       "       '182978597', '182978597', '[958723420, 182978597]', '4329571',\n",
       "       '182211049', '182211049', '182211049', '228156831',\n",
       "       '[371182415, 1188894257, 1188894258, 228156830, 228156831]',\n",
       "       '371182415', '371182421', '1069626664', '1069626664',\n",
       "       '[1069626664, 183797228]', '183797228',\n",
       "       '[1298104241, 183797228, 1136880582, 1069626665]',\n",
       "       '[1069626668, 217978301]', '58825613', '58825613', '58825613',\n",
       "       '43583119', '43583119', '307480732', '307480732', '307480732',\n",
       "       '[307480731, 307480732]', '224244587', '621628355',\n",
       "       '[648222762, 950213149, 950213150]', '950213151',\n",
       "       '[298374031, 950213151]', '[950213152, 1356938591, 298374031]',\n",
       "       '[950213152, 389768723]', '389768723', '[950213153, 389768723]',\n",
       "       '[950213154, 785078766]',\n",
       "       '[501243984, 1069626673, 43585211, 1137080964]', '113796151',\n",
       "       '[23017709, 950213158]',\n",
       "       '[560379688, 1356946121, 950213156, 23017709]',\n",
       "       '[560379688, 844349134, 23017704]', '4488700', '4488700',\n",
       "       '4488700', '4488700', '4488700', '4488700', '32781814', '32781814',\n",
       "       '32781814', '824246154', '[1070587138, 1070587139]', '871795146',\n",
       "       '871795146', '871795146', '4422803', '876100050',\n",
       "       '[871795147, 876100052]', '4422918', '4422918', '841551952',\n",
       "       '838299486', '10781278', '63971856', '63971856', '63971856',\n",
       "       '4448855', '[1314656067, 1113078719]', '821523180', '821523180',\n",
       "       '[821523180, 821523181]', '10235014', '[650975472, 663502521]',\n",
       "       '663502521', '663502521', '663502521', '663502521', '32954704',\n",
       "       '32954704', '32954704', '815696210', '8392394', '8392394',\n",
       "       '8392394', '8392394', '83606936'], dtype=object)"
      ]
     },
     "execution_count": 109,
     "metadata": {},
     "output_type": "execute_result"
    }
   ],
   "source": [
    "routes_detail[route_id_j].osmid.values"
   ]
  },
  {
   "cell_type": "code",
   "execution_count": 98,
   "id": "e4b2e6db-ee8f-4edb-a2fe-ba64ba472d37",
   "metadata": {},
   "outputs": [
    {
     "data": {
      "text/plain": [
       "<matplotlib.collections.PathCollection at 0x19226f890>"
      ]
     },
     "execution_count": 98,
     "metadata": {},
     "output_type": "execute_result"
    },
    {
     "data": {
      "image/png": "[encoded data removed]",
      "text/plain": [
       "<Figure size 640x480 with 1 Axes>"
      ]
     },
     "metadata": {},
     "output_type": "display_data"
    }
   ],
   "source": [
    "plt.scatter(routes_summary2.route_length, routes_summary2.max_speed_score)"
   ]
  },
  {
   "cell_type": "code",
   "execution_count": 100,
   "id": "569fd9e4-d077-428d-b4f4-9a3776b23d06",
   "metadata": {},
   "outputs": [
    {
     "data": {
      "text/plain": [
       "<matplotlib.collections.PathCollection at 0x14f062c10>"
      ]
     },
     "execution_count": 100,
     "metadata": {},
     "output_type": "execute_result"
    },
    {
     "data": {
      "image/png": "[encoded data removed]",
      "text/plain": [
       "<Figure size 640x480 with 1 Axes>"
      ]
     },
     "metadata": {},
     "output_type": "display_data"
    }
   ],
   "source": [
    "plt.scatter(routes_summary2.route_length, routes_summary2.highway_score)"
   ]
  },
  {
   "cell_type": "raw",
   "id": "f08750c7-bd8d-4e5d-893f-e03c52ab04df",
   "metadata": {},
   "source": [
    "(1) spatial distance\n",
    "(2) duration\n",
    "(3) safety (number of past accidents and/or casualties)\n",
    "(4) bike lane coverage (percentage of route with a bike lane independent or not from the motor-vehicle road network)\n",
    "(5) road quality (potholes, last maintenance time, etc)\n",
    "(6) average and/or max speed limit\n",
    "(7) slope (average inclination of route segments)\n",
    "(8) number of intersections\n",
    "\n",
    "推荐的过程（三步）：\n",
    "第一步：【单源最短路径算法 SSSP】使用道路的最短路径来计算routes，并且保留可接受范围内（绝对值10min、1mile;相对10%）的TopK路径。spatial distance 以及 duration\n",
    "第二步：【机器学习 神经网络】融合各种因素对第一步的候选路径进行偏好排序。特征工程：safety、bike lane coverage、road quality、average and/or max speed limit、slope、number of intersections。（可以加更多）\n",
    "第三步*：【蒙特卡洛搜索、强化学习RL】Top3的路径微调，沿着路径搜寻更优的路径（主要是以安全、舒适度为主）。"
   ]
  },
  {
   "cell_type": "code",
   "execution_count": 125,
   "id": "6b560682-562e-4bd9-b9a8-e32e96a3e3fd",
   "metadata": {},
   "outputs": [
    {
     "data": {
      "text/html": [
       "<div>\n",
       "<style scoped>\n",
       "    .dataframe tbody tr th:only-of-type {\n",
       "        vertical-align: middle;\n",
       "    }\n",
       "\n",
       "    .dataframe tbody tr th {\n",
       "        vertical-align: top;\n",
       "    }\n",
       "\n",
       "    .dataframe thead th {\n",
       "        text-align: right;\n",
       "    }\n",
       "</style>\n",
       "<table border=\"1\" class=\"dataframe\">\n",
       "  <thead>\n",
       "    <tr style=\"text-align: right;\">\n",
       "      <th></th>\n",
       "      <th>start_node</th>\n",
       "      <th>dest_node</th>\n",
       "      <th>dist_start</th>\n",
       "      <th>dist_dest</th>\n",
       "      <th>route_length</th>\n",
       "      <th>total_length</th>\n",
       "    </tr>\n",
       "  </thead>\n",
       "  <tbody>\n",
       "    <tr>\n",
       "      <th>0</th>\n",
       "      <td>25455206</td>\n",
       "      <td>104402</td>\n",
       "      <td>25.578454</td>\n",
       "      <td>17.868934</td>\n",
       "      <td>8098.444510</td>\n",
       "      <td>8141.891898</td>\n",
       "    </tr>\n",
       "    <tr>\n",
       "      <th>1</th>\n",
       "      <td>25455206</td>\n",
       "      <td>8194118630</td>\n",
       "      <td>25.578454</td>\n",
       "      <td>19.603104</td>\n",
       "      <td>8087.587337</td>\n",
       "      <td>8132.768895</td>\n",
       "    </tr>\n",
       "    <tr>\n",
       "      <th>2</th>\n",
       "      <td>25455206</td>\n",
       "      <td>25502538</td>\n",
       "      <td>25.578454</td>\n",
       "      <td>35.347055</td>\n",
       "      <td>8151.127234</td>\n",
       "      <td>8212.052743</td>\n",
       "    </tr>\n",
       "    <tr>\n",
       "      <th>3</th>\n",
       "      <td>25455206</td>\n",
       "      <td>1931256259</td>\n",
       "      <td>25.578454</td>\n",
       "      <td>38.421962</td>\n",
       "      <td>8129.650474</td>\n",
       "      <td>8193.650891</td>\n",
       "    </tr>\n",
       "    <tr>\n",
       "      <th>4</th>\n",
       "      <td>25455206</td>\n",
       "      <td>1289584269</td>\n",
       "      <td>25.578454</td>\n",
       "      <td>45.644006</td>\n",
       "      <td>8137.710663</td>\n",
       "      <td>8208.933123</td>\n",
       "    </tr>\n",
       "    <tr>\n",
       "      <th>5</th>\n",
       "      <td>5492447666</td>\n",
       "      <td>104402</td>\n",
       "      <td>51.542604</td>\n",
       "      <td>17.868934</td>\n",
       "      <td>8124.835541</td>\n",
       "      <td>8194.247078</td>\n",
       "    </tr>\n",
       "    <tr>\n",
       "      <th>6</th>\n",
       "      <td>5492447666</td>\n",
       "      <td>8194118630</td>\n",
       "      <td>51.542604</td>\n",
       "      <td>19.603104</td>\n",
       "      <td>8113.978368</td>\n",
       "      <td>8185.124075</td>\n",
       "    </tr>\n",
       "    <tr>\n",
       "      <th>7</th>\n",
       "      <td>5492447666</td>\n",
       "      <td>25502538</td>\n",
       "      <td>51.542604</td>\n",
       "      <td>35.347055</td>\n",
       "      <td>8177.518265</td>\n",
       "      <td>8264.407923</td>\n",
       "    </tr>\n",
       "    <tr>\n",
       "      <th>8</th>\n",
       "      <td>5492447666</td>\n",
       "      <td>1931256259</td>\n",
       "      <td>51.542604</td>\n",
       "      <td>38.421962</td>\n",
       "      <td>8156.041505</td>\n",
       "      <td>8246.006071</td>\n",
       "    </tr>\n",
       "    <tr>\n",
       "      <th>9</th>\n",
       "      <td>5492447666</td>\n",
       "      <td>1289584269</td>\n",
       "      <td>51.542604</td>\n",
       "      <td>45.644006</td>\n",
       "      <td>8164.101693</td>\n",
       "      <td>8261.288303</td>\n",
       "    </tr>\n",
       "    <tr>\n",
       "      <th>10</th>\n",
       "      <td>1145922485</td>\n",
       "      <td>104402</td>\n",
       "      <td>58.782390</td>\n",
       "      <td>17.868934</td>\n",
       "      <td>8057.417877</td>\n",
       "      <td>8134.069201</td>\n",
       "    </tr>\n",
       "    <tr>\n",
       "      <th>11</th>\n",
       "      <td>1145922485</td>\n",
       "      <td>8194118630</td>\n",
       "      <td>58.782390</td>\n",
       "      <td>19.603104</td>\n",
       "      <td>8046.560704</td>\n",
       "      <td>8124.946198</td>\n",
       "    </tr>\n",
       "    <tr>\n",
       "      <th>12</th>\n",
       "      <td>1145922485</td>\n",
       "      <td>25502538</td>\n",
       "      <td>58.782390</td>\n",
       "      <td>35.347055</td>\n",
       "      <td>8110.100601</td>\n",
       "      <td>8204.230046</td>\n",
       "    </tr>\n",
       "    <tr>\n",
       "      <th>13</th>\n",
       "      <td>1145922485</td>\n",
       "      <td>1931256259</td>\n",
       "      <td>58.782390</td>\n",
       "      <td>38.421962</td>\n",
       "      <td>8088.623841</td>\n",
       "      <td>8185.828194</td>\n",
       "    </tr>\n",
       "    <tr>\n",
       "      <th>14</th>\n",
       "      <td>1145922485</td>\n",
       "      <td>1289584269</td>\n",
       "      <td>58.782390</td>\n",
       "      <td>45.644006</td>\n",
       "      <td>8096.684029</td>\n",
       "      <td>8201.110426</td>\n",
       "    </tr>\n",
       "    <tr>\n",
       "      <th>15</th>\n",
       "      <td>5492447668</td>\n",
       "      <td>104402</td>\n",
       "      <td>61.334482</td>\n",
       "      <td>17.868934</td>\n",
       "      <td>8134.728566</td>\n",
       "      <td>8213.931982</td>\n",
       "    </tr>\n",
       "    <tr>\n",
       "      <th>16</th>\n",
       "      <td>5492447668</td>\n",
       "      <td>8194118630</td>\n",
       "      <td>61.334482</td>\n",
       "      <td>19.603104</td>\n",
       "      <td>8123.871393</td>\n",
       "      <td>8204.808979</td>\n",
       "    </tr>\n",
       "    <tr>\n",
       "      <th>17</th>\n",
       "      <td>5492447668</td>\n",
       "      <td>25502538</td>\n",
       "      <td>61.334482</td>\n",
       "      <td>35.347055</td>\n",
       "      <td>8187.411290</td>\n",
       "      <td>8284.092827</td>\n",
       "    </tr>\n",
       "    <tr>\n",
       "      <th>18</th>\n",
       "      <td>5492447668</td>\n",
       "      <td>1931256259</td>\n",
       "      <td>61.334482</td>\n",
       "      <td>38.421962</td>\n",
       "      <td>8165.934531</td>\n",
       "      <td>8265.690974</td>\n",
       "    </tr>\n",
       "    <tr>\n",
       "      <th>19</th>\n",
       "      <td>5492447668</td>\n",
       "      <td>1289584269</td>\n",
       "      <td>61.334482</td>\n",
       "      <td>45.644006</td>\n",
       "      <td>8173.994719</td>\n",
       "      <td>8280.973207</td>\n",
       "    </tr>\n",
       "    <tr>\n",
       "      <th>20</th>\n",
       "      <td>9396557321</td>\n",
       "      <td>104402</td>\n",
       "      <td>63.672618</td>\n",
       "      <td>17.868934</td>\n",
       "      <td>8281.336762</td>\n",
       "      <td>8362.878313</td>\n",
       "    </tr>\n",
       "    <tr>\n",
       "      <th>21</th>\n",
       "      <td>9396557321</td>\n",
       "      <td>8194118630</td>\n",
       "      <td>63.672618</td>\n",
       "      <td>19.603104</td>\n",
       "      <td>8270.479589</td>\n",
       "      <td>8353.755311</td>\n",
       "    </tr>\n",
       "    <tr>\n",
       "      <th>22</th>\n",
       "      <td>9396557321</td>\n",
       "      <td>25502538</td>\n",
       "      <td>63.672618</td>\n",
       "      <td>35.347055</td>\n",
       "      <td>8334.019486</td>\n",
       "      <td>8433.039159</td>\n",
       "    </tr>\n",
       "    <tr>\n",
       "      <th>23</th>\n",
       "      <td>9396557321</td>\n",
       "      <td>1931256259</td>\n",
       "      <td>63.672618</td>\n",
       "      <td>38.421962</td>\n",
       "      <td>8312.542727</td>\n",
       "      <td>8414.637306</td>\n",
       "    </tr>\n",
       "    <tr>\n",
       "      <th>24</th>\n",
       "      <td>9396557321</td>\n",
       "      <td>1289584269</td>\n",
       "      <td>63.672618</td>\n",
       "      <td>45.644006</td>\n",
       "      <td>8320.602915</td>\n",
       "      <td>8429.919539</td>\n",
       "    </tr>\n",
       "  </tbody>\n",
       "</table>\n",
       "</div>"
      ],
      "text/plain": [
       "    start_node   dest_node  dist_start  dist_dest  route_length  total_length\n",
       "0     25455206      104402   25.578454  17.868934   8098.444510   8141.891898\n",
       "1     25455206  8194118630   25.578454  19.603104   8087.587337   8132.768895\n",
       "2     25455206    25502538   25.578454  35.347055   8151.127234   8212.052743\n",
       "3     25455206  1931256259   25.578454  38.421962   8129.650474   8193.650891\n",
       "4     25455206  1289584269   25.578454  45.644006   8137.710663   8208.933123\n",
       "5   5492447666      104402   51.542604  17.868934   8124.835541   8194.247078\n",
       "6   5492447666  8194118630   51.542604  19.603104   8113.978368   8185.124075\n",
       "7   5492447666    25502538   51.542604  35.347055   8177.518265   8264.407923\n",
       "8   5492447666  1931256259   51.542604  38.421962   8156.041505   8246.006071\n",
       "9   5492447666  1289584269   51.542604  45.644006   8164.101693   8261.288303\n",
       "10  1145922485      104402   58.782390  17.868934   8057.417877   8134.069201\n",
       "11  1145922485  8194118630   58.782390  19.603104   8046.560704   8124.946198\n",
       "12  1145922485    25502538   58.782390  35.347055   8110.100601   8204.230046\n",
       "13  1145922485  1931256259   58.782390  38.421962   8088.623841   8185.828194\n",
       "14  1145922485  1289584269   58.782390  45.644006   8096.684029   8201.110426\n",
       "15  5492447668      104402   61.334482  17.868934   8134.728566   8213.931982\n",
       "16  5492447668  8194118630   61.334482  19.603104   8123.871393   8204.808979\n",
       "17  5492447668    25502538   61.334482  35.347055   8187.411290   8284.092827\n",
       "18  5492447668  1931256259   61.334482  38.421962   8165.934531   8265.690974\n",
       "19  5492447668  1289584269   61.334482  45.644006   8173.994719   8280.973207\n",
       "20  9396557321      104402   63.672618  17.868934   8281.336762   8362.878313\n",
       "21  9396557321  8194118630   63.672618  19.603104   8270.479589   8353.755311\n",
       "22  9396557321    25502538   63.672618  35.347055   8334.019486   8433.039159\n",
       "23  9396557321  1931256259   63.672618  38.421962   8312.542727   8414.637306\n",
       "24  9396557321  1289584269   63.672618  45.644006   8320.602915   8429.919539"
      ]
     },
     "execution_count": 125,
     "metadata": {},
     "output_type": "execute_result"
    }
   ],
   "source": [
    "routes_summary"
   ]
  },
  {
   "cell_type": "code",
   "execution_count": 113,
   "id": "0d8cf476-fc36-4399-ac6d-f5ffc18ec83a",
   "metadata": {},
   "outputs": [
    {
     "data": {
      "text/html": [
       "<div>\n",
       "<style scoped>\n",
       "    .dataframe tbody tr th:only-of-type {\n",
       "        vertical-align: middle;\n",
       "    }\n",
       "\n",
       "    .dataframe tbody tr th {\n",
       "        vertical-align: top;\n",
       "    }\n",
       "\n",
       "    .dataframe thead th {\n",
       "        text-align: right;\n",
       "    }\n",
       "</style>\n",
       "<table border=\"1\" class=\"dataframe\">\n",
       "  <thead>\n",
       "    <tr style=\"text-align: right;\">\n",
       "      <th></th>\n",
       "      <th>osmid</th>\n",
       "      <th>highway</th>\n",
       "      <th>lanes</th>\n",
       "      <th>maxspeed</th>\n",
       "      <th>name</th>\n",
       "      <th>oneway</th>\n",
       "      <th>reversed</th>\n",
       "      <th>length</th>\n",
       "      <th>geometry</th>\n",
       "      <th>ref</th>\n",
       "      <th>bridge</th>\n",
       "      <th>access</th>\n",
       "      <th>service</th>\n",
       "      <th>junction</th>\n",
       "      <th>width</th>\n",
       "      <th>tunnel</th>\n",
       "    </tr>\n",
       "  </thead>\n",
       "  <tbody>\n",
       "    <tr>\n",
       "      <th>0</th>\n",
       "      <td>[1051388676, 303994869]</td>\n",
       "      <td>tertiary</td>\n",
       "      <td>2</td>\n",
       "      <td>20 mph</td>\n",
       "      <td>Amwell Street</td>\n",
       "      <td>False</td>\n",
       "      <td>False</td>\n",
       "      <td>41.026633</td>\n",
       "      <td>LINESTRING (-0.1102367 51.5290038, -0.1101784 ...</td>\n",
       "      <td>NaN</td>\n",
       "      <td>NaN</td>\n",
       "      <td>NaN</td>\n",
       "      <td>NaN</td>\n",
       "      <td>NaN</td>\n",
       "      <td>NaN</td>\n",
       "      <td>NaN</td>\n",
       "    </tr>\n",
       "    <tr>\n",
       "      <th>1</th>\n",
       "      <td>303994869</td>\n",
       "      <td>tertiary</td>\n",
       "      <td>2</td>\n",
       "      <td>20 mph</td>\n",
       "      <td>Amwell Street</td>\n",
       "      <td>False</td>\n",
       "      <td>False</td>\n",
       "      <td>27.981877</td>\n",
       "      <td>LINESTRING (-0.1101157 51.5286426, -0.110058 5...</td>\n",
       "      <td>NaN</td>\n",
       "      <td>NaN</td>\n",
       "      <td>NaN</td>\n",
       "      <td>NaN</td>\n",
       "      <td>NaN</td>\n",
       "      <td>NaN</td>\n",
       "      <td>NaN</td>\n",
       "    </tr>\n",
       "    <tr>\n",
       "      <th>2</th>\n",
       "      <td>[1051388672, 303994869]</td>\n",
       "      <td>tertiary</td>\n",
       "      <td>2</td>\n",
       "      <td>20 mph</td>\n",
       "      <td>Amwell Street</td>\n",
       "      <td>False</td>\n",
       "      <td>False</td>\n",
       "      <td>41.472945</td>\n",
       "      <td>LINESTRING (-0.110026 51.5283973, -0.1099861 5...</td>\n",
       "      <td>NaN</td>\n",
       "      <td>NaN</td>\n",
       "      <td>NaN</td>\n",
       "      <td>NaN</td>\n",
       "      <td>NaN</td>\n",
       "      <td>NaN</td>\n",
       "      <td>NaN</td>\n",
       "    </tr>\n",
       "    <tr>\n",
       "      <th>3</th>\n",
       "      <td>920596373</td>\n",
       "      <td>tertiary</td>\n",
       "      <td>2</td>\n",
       "      <td>20 mph</td>\n",
       "      <td>Amwell Street</td>\n",
       "      <td>False</td>\n",
       "      <td>False</td>\n",
       "      <td>3.636671</td>\n",
       "      <td>NaN</td>\n",
       "      <td>NaN</td>\n",
       "      <td>NaN</td>\n",
       "      <td>NaN</td>\n",
       "      <td>NaN</td>\n",
       "      <td>NaN</td>\n",
       "      <td>NaN</td>\n",
       "      <td>NaN</td>\n",
       "    </tr>\n",
       "    <tr>\n",
       "      <th>4</th>\n",
       "      <td>[1051388673, 1051388674, 1051388675]</td>\n",
       "      <td>tertiary</td>\n",
       "      <td>NaN</td>\n",
       "      <td>20 mph</td>\n",
       "      <td>Amwell Street</td>\n",
       "      <td>False</td>\n",
       "      <td>False</td>\n",
       "      <td>63.305672</td>\n",
       "      <td>LINESTRING (-0.1098325 51.5280121, -0.1097506 ...</td>\n",
       "      <td>NaN</td>\n",
       "      <td>NaN</td>\n",
       "      <td>NaN</td>\n",
       "      <td>NaN</td>\n",
       "      <td>NaN</td>\n",
       "      <td>NaN</td>\n",
       "      <td>NaN</td>\n",
       "    </tr>\n",
       "  </tbody>\n",
       "</table>\n",
       "</div>"
      ],
      "text/plain": [
       "                                  osmid   highway lanes maxspeed  \\\n",
       "0               [1051388676, 303994869]  tertiary     2   20 mph   \n",
       "1                             303994869  tertiary     2   20 mph   \n",
       "2               [1051388672, 303994869]  tertiary     2   20 mph   \n",
       "3                             920596373  tertiary     2   20 mph   \n",
       "4  [1051388673, 1051388674, 1051388675]  tertiary   NaN   20 mph   \n",
       "\n",
       "            name oneway reversed     length  \\\n",
       "0  Amwell Street  False    False  41.026633   \n",
       "1  Amwell Street  False    False  27.981877   \n",
       "2  Amwell Street  False    False  41.472945   \n",
       "3  Amwell Street  False    False   3.636671   \n",
       "4  Amwell Street  False    False  63.305672   \n",
       "\n",
       "                                            geometry  ref bridge access  \\\n",
       "0  LINESTRING (-0.1102367 51.5290038, -0.1101784 ...  NaN    NaN    NaN   \n",
       "1  LINESTRING (-0.1101157 51.5286426, -0.110058 5...  NaN    NaN    NaN   \n",
       "2  LINESTRING (-0.110026 51.5283973, -0.1099861 5...  NaN    NaN    NaN   \n",
       "3                                                NaN  NaN    NaN    NaN   \n",
       "4  LINESTRING (-0.1098325 51.5280121, -0.1097506 ...  NaN    NaN    NaN   \n",
       "\n",
       "  service junction width tunnel  \n",
       "0     NaN      NaN   NaN    NaN  \n",
       "1     NaN      NaN   NaN    NaN  \n",
       "2     NaN      NaN   NaN    NaN  \n",
       "3     NaN      NaN   NaN    NaN  \n",
       "4     NaN      NaN   NaN    NaN  "
      ]
     },
     "execution_count": 113,
     "metadata": {},
     "output_type": "execute_result"
    }
   ],
   "source": [
    "det = routes_detail['25455206-104402']\n",
    "det.head()"
   ]
  },
  {
   "cell_type": "code",
   "execution_count": 134,
   "id": "43557bab-689c-47a6-8fbd-e7511f61731d",
   "metadata": {},
   "outputs": [
    {
     "data": {
      "text/plain": [
       "ref\n",
       "A401     0.253252\n",
       "A315     0.227078\n",
       "A4       0.165062\n",
       "A40      0.061841\n",
       "A4200    0.020102\n",
       "Name: length, dtype: float64"
      ]
     },
     "execution_count": 134,
     "metadata": {},
     "output_type": "execute_result"
    }
   ],
   "source": [
    "(det.groupby(by=\"ref\").length.sum() / det.length.sum()).sort_values().iloc[::-1]"
   ]
  },
  {
   "cell_type": "code",
   "execution_count": 133,
   "id": "b0b8f6e6-0174-456f-b96f-f3434d92fb87",
   "metadata": {},
   "outputs": [
    {
     "data": {
      "text/plain": [
       "highway\n",
       "primary                      0.681455\n",
       "residential                  0.150503\n",
       "['trunk_link', 'primary']    0.040916\n",
       "cycleway                     0.033648\n",
       "tertiary                     0.033396\n",
       "service                      0.029153\n",
       "primary_link                 0.021576\n",
       "trunk                        0.004965\n",
       "unclassified                 0.004388\n",
       "Name: length, dtype: float64"
      ]
     },
     "execution_count": 133,
     "metadata": {},
     "output_type": "execute_result"
    }
   ],
   "source": [
    "(det.groupby(by=\"highway\").length.sum() / det.length.sum()).sort_values().iloc[::-1]"
   ]
  },
  {
   "cell_type": "code",
   "execution_count": 118,
   "id": "a36f9456-8cb7-450e-805b-135b27d2d083",
   "metadata": {},
   "outputs": [
    {
     "data": {
      "text/plain": [
       "lanes\n",
       "2                  29\n",
       "4                  22\n",
       "3                  14\n",
       "5                   7\n",
       "1                   5\n",
       "['2', '1']          3\n",
       "6                   2\n",
       "['4', '3']          2\n",
       "['4', '3', '2']     1\n",
       "['5', '6']          1\n",
       "['5', '4']          1\n",
       "['5', '3']          1\n",
       "['5', '2']          1\n",
       "Name: count, dtype: int64"
      ]
     },
     "execution_count": 118,
     "metadata": {},
     "output_type": "execute_result"
    }
   ],
   "source": [
    "det.lanes.value_counts()"
   ]
  },
  {
   "cell_type": "code",
   "execution_count": 120,
   "id": "2f2c43a1-b29d-4e78-8fc8-63939896bcb8",
   "metadata": {},
   "outputs": [
    {
     "data": {
      "text/plain": [
       "oneway\n",
       "False    102\n",
       "True      45\n",
       "Name: count, dtype: int64"
      ]
     },
     "execution_count": 120,
     "metadata": {},
     "output_type": "execute_result"
    }
   ],
   "source": [
    "det.oneway.value_counts()"
   ]
  },
  {
   "cell_type": "code",
   "execution_count": 121,
   "id": "36b12c42-aa72-4a29-8648-f2db18c41067",
   "metadata": {},
   "outputs": [
    {
     "data": {
      "text/plain": [
       "reversed\n",
       "False    74\n",
       "True     73\n",
       "Name: count, dtype: int64"
      ]
     },
     "execution_count": 121,
     "metadata": {},
     "output_type": "execute_result"
    }
   ],
   "source": [
    "det.reversed.value_counts()"
   ]
  },
  {
   "cell_type": "code",
   "execution_count": 122,
   "id": "9258b620-ebd2-4059-9585-2bdc655f84b1",
   "metadata": {},
   "outputs": [
    {
     "data": {
      "text/plain": [
       "ref\n",
       "A315     44\n",
       "A401     42\n",
       "A4       18\n",
       "A40      13\n",
       "A4200     3\n",
       "Name: count, dtype: int64"
      ]
     },
     "execution_count": 122,
     "metadata": {},
     "output_type": "execute_result"
    }
   ],
   "source": [
    "det.ref.value_counts()"
   ]
  },
  {
   "cell_type": "code",
   "execution_count": 123,
   "id": "e22f847b-d412-461c-ad97-2a66132056db",
   "metadata": {},
   "outputs": [
    {
     "data": {
      "text/plain": [
       "bridge\n",
       "yes    1\n",
       "Name: count, dtype: int64"
      ]
     },
     "execution_count": 123,
     "metadata": {},
     "output_type": "execute_result"
    }
   ],
   "source": [
    "det.bridge.value_counts()"
   ]
  }
 ],
 "metadata": {
  "kernelspec": {
   "display_name": "Python 3 (ipykernel)",
   "language": "python",
   "name": "python3"
  },
  "language_info": {
   "codemirror_mode": {
    "name": "ipython",
    "version": 3
   },
   "file_extension": ".py",
   "mimetype": "text/x-python",
   "name": "python",
   "nbconvert_exporter": "python",
   "pygments_lexer": "ipython3",
   "version": "3.11.5"
  }
 },
 "nbformat": 4,
 "nbformat_minor": 5
}
